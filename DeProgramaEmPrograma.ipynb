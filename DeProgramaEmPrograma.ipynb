{
  "nbformat": 4,
  "nbformat_minor": 0,
  "metadata": {
    "colab": {
      "provenance": [],
      "authorship_tag": "ABX9TyM+FZKPU2HHHaf23IC/cdkT",
      "include_colab_link": true
    },
    "kernelspec": {
      "name": "python3",
      "display_name": "Python 3"
    },
    "language_info": {
      "name": "python"
    }
  },
  "cells": [
    {
      "cell_type": "markdown",
      "metadata": {
        "id": "view-in-github",
        "colab_type": "text"
      },
      "source": [
        "<a href=\"https://colab.research.google.com/github/RyanAmormim/ENG_20242/blob/main/DeProgramaEmPrograma.ipynb\" target=\"_parent\"><img src=\"https://colab.research.google.com/assets/colab-badge.svg\" alt=\"Open In Colab\"/></a>"
      ]
    },
    {
      "cell_type": "code",
      "execution_count": null,
      "metadata": {
        "colab": {
          "base_uri": "https://localhost:8080/"
        },
        "id": "AfX8foS9dGno",
        "outputId": "9d180fd5-ce69-47fb-8c60-b4217c8c4a0e"
      },
      "outputs": [
        {
          "output_type": "stream",
          "name": "stdout",
          "text": [
            "primeiro numero: 5\n",
            "segundo numero: 6\n",
            "11\n"
          ]
        }
      ],
      "source": [
        "from pickle import DEFAULT_PROTOCOL\n",
        "a = int(input(\"primeiro numero: \"))\n",
        "b = int(input(\"segundo numero: \"))\n",
        "print(a + b )\n",
        "\n",
        "\n",
        "\n"
      ]
    },
    {
      "cell_type": "code",
      "source": [
        "a = int(input(\"numero: \"))\n",
        "print( a + a)"
      ],
      "metadata": {
        "colab": {
          "base_uri": "https://localhost:8080/"
        },
        "id": "R9hkRDEajwOm",
        "outputId": "dfe60989-909a-4ef2-8fed-4b5bc89430a2"
      },
      "execution_count": null,
      "outputs": [
        {
          "output_type": "stream",
          "name": "stdout",
          "text": [
            "numero: 6\n",
            "12\n"
          ]
        }
      ]
    },
    {
      "cell_type": "code",
      "source": [
        "nome = input(\"meu nome é: \")\n",
        "idade = int(input(\"minha idade é: \"))\n",
        "print(f\"meu nome é {nome} e minha idade é {idade}\")"
      ],
      "metadata": {
        "colab": {
          "base_uri": "https://localhost:8080/"
        },
        "id": "RhSLxXQ9kqbz",
        "outputId": "a765b019-791a-49c4-dea1-d31dfc90d23b"
      },
      "execution_count": null,
      "outputs": [
        {
          "output_type": "stream",
          "name": "stdout",
          "text": [
            "meu nome é: Ryan\n",
            "minha idade é: 21\n",
            "meu nome é Ryan e minha idade é 21\n"
          ]
        }
      ]
    },
    {
      "cell_type": "code",
      "source": [
        "a = float(input(\"primeira nota: \"))\n",
        "b = float(input(\"segunda nota: \"))\n",
        "c = float(input(\"terceira nota: \"))\n",
        "d = print(( a + b + c )\n",
        "/ 3)"
      ],
      "metadata": {
        "colab": {
          "base_uri": "https://localhost:8080/"
        },
        "id": "ldgOx_5-mG_r",
        "outputId": "858d17a3-3f76-4983-b9c6-9dc10f42bad5"
      },
      "execution_count": null,
      "outputs": [
        {
          "output_type": "stream",
          "name": "stdout",
          "text": [
            "primeira nota: 9.5\n",
            "segunda nota: 8\n",
            "terceira nota: 9\n",
            "8.833333333333334\n"
          ]
        }
      ]
    },
    {
      "cell_type": "code",
      "source": [
        "a = int(input(\"primeira nota: \"))\n",
        "b = int(input(\"segunda nota: \"))\n",
        "d = print(( a / b))"
      ],
      "metadata": {
        "colab": {
          "base_uri": "https://localhost:8080/"
        },
        "id": "m4nTo7h8ny-W",
        "outputId": "71b9f343-b9c3-455e-fa87-2cc34704a614"
      },
      "execution_count": null,
      "outputs": [
        {
          "output_type": "stream",
          "name": "stdout",
          "text": [
            "primeira nota: 50\n",
            "segunda nota: 10\n",
            "5.0\n"
          ]
        }
      ]
    },
    {
      "cell_type": "code",
      "source": [
        "nome = \"João\" # String\n",
        "idade = \"entre a idade : \" # Inteiro\n",
        "altura = 1.85 # float\n",
        "casado = True # Booleano\n",
        "\n",
        "print ( \"nome : \", nome)\n",
        "print ( \"idade : \", idade)\n",
        "print ( \"altura : \", altura)\n",
        "print (\"casado : \", casado)"
      ],
      "metadata": {
        "colab": {
          "base_uri": "https://localhost:8080/"
        },
        "id": "rcztTV_cHcZ1",
        "outputId": "105d3c51-0bc3-4c99-ecb2-5d4a4947968b"
      },
      "execution_count": null,
      "outputs": [
        {
          "output_type": "stream",
          "name": "stdout",
          "text": [
            "nome :  João\n",
            "idade :  entre a idade : \n",
            "altura :  1.85\n",
            "casado :  True\n"
          ]
        }
      ]
    },
    {
      "cell_type": "code",
      "source": [
        "idade = 25\n",
        "mensagem = \"você tem \" + str(idade) + \" anos\"\n",
        "print(mensagem)"
      ],
      "metadata": {
        "colab": {
          "base_uri": "https://localhost:8080/"
        },
        "id": "Bd9pT5piKQtU",
        "outputId": "c8d44c22-e298-4b75-b3d1-453ae42e9b64"
      },
      "execution_count": null,
      "outputs": [
        {
          "output_type": "stream",
          "name": "stdout",
          "text": [
            "você tem 25 anos\n"
          ]
        }
      ]
    },
    {
      "cell_type": "code",
      "source": [
        "a = 5\n",
        "b = 5\n",
        "resultado = ( a==b) #true, porque 5 é igual a 5\n",
        "print(resultado)"
      ],
      "metadata": {
        "colab": {
          "base_uri": "https://localhost:8080/"
        },
        "id": "at8vJoCOMa10",
        "outputId": "09dbc70b-d3d9-4762-9ce8-68bc6e8c2dcf"
      },
      "execution_count": null,
      "outputs": [
        {
          "output_type": "stream",
          "name": "stdout",
          "text": [
            "True\n"
          ]
        }
      ]
    },
    {
      "cell_type": "code",
      "source": [
        "a = 5\n",
        "b = 3\n",
        "resultado = (a!=b) #true, porque 5 é diferente de 3\n",
        "print(resultado)"
      ],
      "metadata": {
        "colab": {
          "base_uri": "https://localhost:8080/"
        },
        "id": "5AXBwWNwM4hl",
        "outputId": "244cbe0b-c80b-4f50-ed9a-fd6ce87041dc"
      },
      "execution_count": null,
      "outputs": [
        {
          "output_type": "stream",
          "name": "stdout",
          "text": [
            "True\n"
          ]
        }
      ]
    },
    {
      "cell_type": "code",
      "source": [
        "a = 3\n",
        "b = 7\n",
        "resultado = (a <= b) #true, porque 3 é menor que 7\n",
        "print(resultado)"
      ],
      "metadata": {
        "colab": {
          "base_uri": "https://localhost:8080/"
        },
        "id": "elz3Z_y8NQft",
        "outputId": "44913d97-8019-44cb-d542-b041655f3e38"
      },
      "execution_count": null,
      "outputs": [
        {
          "output_type": "stream",
          "name": "stdout",
          "text": [
            "True\n"
          ]
        }
      ]
    },
    {
      "cell_type": "code",
      "source": [
        "idade_João = 25\n",
        "idade_Maria = 30\n",
        "# comparando as idades\n",
        "print(\"João e maria tem a mesma idade ?\", idade_João == idade_Maria)\n",
        "print(\"João tem uma idade diferente de Maria ?\", idade_João != idade_Maria)\n",
        "print(\"João é mais velho que Maria ?\", idade_João > idade_Maria)\n",
        "print(\"João é mais jovem que Maria ?\", idade_João < idade_Maria)\n",
        "print(\"João tem pelo menos a mesma idade que Maria ?\", idade_João >= idade_Maria)\n",
        "print(\"João tem no máximo a mesma idade que Maria ?\", idade_João <= idade_Maria)"
      ],
      "metadata": {
        "colab": {
          "base_uri": "https://localhost:8080/"
        },
        "id": "EUNNeX_8NgDj",
        "outputId": "d89c9c03-eea1-4148-a245-640aaef19b2b"
      },
      "execution_count": null,
      "outputs": [
        {
          "output_type": "stream",
          "name": "stdout",
          "text": [
            "João e maria tem a mesma idade ? False\n",
            "João tem uma idade diferente de Maria ? True\n",
            "João é mais velho que Maria ? False\n",
            "João é mais jovem que Maria ? True\n",
            "João tem pelo menos a mesma idade que Maria ? False\n",
            "João tem no máximo a mesma idade que Maria ? True\n"
          ]
        }
      ]
    },
    {
      "cell_type": "code",
      "source": [
        "nome = input(\"qual é o seu nome ? \")\n",
        "idade = int(input(\"quantos anos você tem ? \"))\n",
        "altura = float(input(\"qual é a sua altura ? \"))\n",
        "\n",
        "print(f\"Olá, {nome}! \")\n",
        "print(f\"Você tem {idade}. \")\n",
        "print(f\"Você mede {altura} metros. \")"
      ],
      "metadata": {
        "colab": {
          "base_uri": "https://localhost:8080/"
        },
        "id": "tT6cxP03SAjC",
        "outputId": "aab971e0-153f-4c68-8b04-cf0098d4ab46"
      },
      "execution_count": null,
      "outputs": [
        {
          "output_type": "stream",
          "name": "stdout",
          "text": [
            "qual é o seu nome ? Ryan\n",
            "quantos anos você tem ? 21\n",
            "qual é a sua altura ? 1.77\n",
            "Olá, Ryan! \n",
            "Você tem 21. \n",
            "Você mede 1.77 metros. \n"
          ]
        }
      ]
    },
    {
      "cell_type": "code",
      "source": [
        "nome = input(\"meu nome é: \")\n",
        "cidade = input(\"em qual cidade você mora ?\")\n",
        "print(f\"Olá {nome}! Você vive em {cidade} \")"
      ],
      "metadata": {
        "colab": {
          "base_uri": "https://localhost:8080/"
        },
        "id": "2X_B_b2QgRJ6",
        "outputId": "c99f832c-c283-4190-dbdd-13afcb89783f"
      },
      "execution_count": null,
      "outputs": [
        {
          "output_type": "stream",
          "name": "stdout",
          "text": [
            "meu nome é: Ryan\n",
            "em qual cidade você mora ?Vila Velha\n",
            "Olá Ryan! Você vive em Vila Velha \n"
          ]
        }
      ]
    },
    {
      "cell_type": "code",
      "source": [
        "a = float(input(\"qual o comprimento do retangulo ?\"))\n",
        "b = float(input(\"qual a altura do retangulo ?\"))\n",
        "resultado = (a*2 + b*2)\n",
        "\n",
        "print(f\"O resultado é: {resultado}\")"
      ],
      "metadata": {
        "colab": {
          "base_uri": "https://localhost:8080/"
        },
        "id": "iN30JA-dk_6R",
        "outputId": "4e6ac15d-75b1-4d05-c77f-a73f7103ec4f"
      },
      "execution_count": null,
      "outputs": [
        {
          "output_type": "stream",
          "name": "stdout",
          "text": [
            "qual o comprimento do retangulo ?6\n",
            "qual a altura do retangulo ?3.2\n",
            "O resultado é: 18.4\n"
          ]
        }
      ]
    },
    {
      "cell_type": "code",
      "source": [
        "# uma sala tem 5 metros de comprimento, qual a medida em centimetros e milimetros ?\n",
        "\n",
        "a = int(input(\"qual o comprimento da sala ?\"))\n",
        "resultado1 = (f\"A medida da sala em centimetros é: {a*100}\")\n",
        "resultado2 = (f\"A medida da sala em milimetros e: {a*1000}\")\n",
        "print(resultado1)\n",
        "print(resultado2)"
      ],
      "metadata": {
        "colab": {
          "base_uri": "https://localhost:8080/"
        },
        "id": "fsjWC5SPmvqn",
        "outputId": "34b60eaf-8b51-41f8-a796-6ff238e8720c"
      },
      "execution_count": null,
      "outputs": [
        {
          "output_type": "stream",
          "name": "stdout",
          "text": [
            "qual o comprimento da sala ?5\n",
            "A medida da sala em centimetros é: 500\n",
            "A medida da sala em milimetros e: 5000\n"
          ]
        }
      ]
    },
    {
      "cell_type": "code",
      "source": [
        "idade1 = int(input(\"qual a idade da primeira pessoa ?\"))\n",
        "idade2 = int(input(\"qual a idade da segunda pessoa ?\"))\n",
        "resultado = (idade1 != idade2)\n",
        "print(resultado)"
      ],
      "metadata": {
        "colab": {
          "base_uri": "https://localhost:8080/"
        },
        "id": "s6bxwKmYqwRQ",
        "outputId": "9d147e5e-73ac-482b-b849-331f05566b76"
      },
      "execution_count": null,
      "outputs": [
        {
          "output_type": "stream",
          "name": "stdout",
          "text": [
            "qual a idade da primeira pessoa ?10\n",
            "qual a idade da segunda pessoa ?11\n",
            "True\n"
          ]
        }
      ]
    },
    {
      "cell_type": "code",
      "source": [
        "peso = int(input(\"Qual o seu peso ?\"))\n",
        "altura = float(input(\"qual a sua altura ?\"))\n",
        "resultado = {peso/(altura**2)}\n",
        "print(resultado)"
      ],
      "metadata": {
        "colab": {
          "base_uri": "https://localhost:8080/"
        },
        "id": "UxycbS4EnZsU",
        "outputId": "37d73b05-2754-4f11-8a69-1f6950463484"
      },
      "execution_count": null,
      "outputs": [
        {
          "output_type": "stream",
          "name": "stdout",
          "text": [
            "Qual o seu peso ?92\n",
            "qual a sua altura ?1.77\n",
            "{29.365763350250564}\n"
          ]
        }
      ]
    },
    {
      "cell_type": "code",
      "source": [
        "numero1 = int(input(\"primeiro numero: \"))\n",
        "numero2 = int(input(\"segundo numero: \"))\n",
        "resultado1 = (numero1 == numero2)\n",
        "resultado2 = (numero1 <= numero2)\n",
        "resultado3 = (numero1 >= numero2)\n",
        "\n",
        "print(resultado1)\n",
        "print(resultado2)\n",
        "print(resultado3)"
      ],
      "metadata": {
        "colab": {
          "base_uri": "https://localhost:8080/"
        },
        "id": "m8b2pngGqsfL",
        "outputId": "5c0c1b6c-9b4e-4c51-a69e-083148a7ca4b"
      },
      "execution_count": null,
      "outputs": [
        {
          "output_type": "stream",
          "name": "stdout",
          "text": [
            "primeiro numero: 5\n",
            "segundo numero: 7\n",
            "False\n",
            "True\n",
            "False\n"
          ]
        }
      ]
    },
    {
      "cell_type": "code",
      "source": [
        "numero1 = int(input(\"numero 1: \"))\n",
        "numero2 = int(input(\"numero 2: \"))\n",
        "numero3 = int(input(\"numero 3: \"))\n",
        "\n",
        "resultado = ((numero1 + numero2 + numero3)/3)\n",
        "\n",
        "print(resultado)"
      ],
      "metadata": {
        "colab": {
          "base_uri": "https://localhost:8080/"
        },
        "id": "cGbvRy93sQwc",
        "outputId": "46c40383-4bbd-4a7c-a0dd-51f77ed439c7"
      },
      "execution_count": null,
      "outputs": [
        {
          "output_type": "stream",
          "name": "stdout",
          "text": [
            "numero 1: 3\n",
            "numero 2: 5\n",
            "numero 3: 7\n",
            "5.0\n"
          ]
        }
      ]
    },
    {
      "cell_type": "code",
      "source": [
        "r = int(input(\"qual o raio do cilindro em centimetros é ?\"))\n",
        "h = int(input(\"qual a altura do cilindro em centimetros é  ?\"))\n",
        "v = ((f\"O volume do cilindro é: {(r**2) * h}\"))\n",
        "print(f\"{v} centimetros\")"
      ],
      "metadata": {
        "colab": {
          "base_uri": "https://localhost:8080/"
        },
        "id": "YlqiEdc-tBez",
        "outputId": "767ef2cf-a40e-4c92-be14-a06f5c58dda4"
      },
      "execution_count": null,
      "outputs": [
        {
          "output_type": "stream",
          "name": "stdout",
          "text": [
            "qual o raio do cilindro em centimetros é ?5\n",
            "qual a altura do cilindro em centimetros é  ?10\n",
            "O volume do cilindro é: 250 centimetros\n"
          ]
        }
      ]
    },
    {
      "cell_type": "code",
      "source": [
        "from os import pipe2\n",
        "p1 = input(\"primeira palavra: \")\n",
        "p2 = input(\"segunda palavra: \")\n",
        "\n",
        "resultado1 = (p1 == p2)\n",
        "resultado2 = (p1 != p2)\n",
        "\n",
        "print(resultado1)\n",
        "print(resultado2)"
      ],
      "metadata": {
        "colab": {
          "base_uri": "https://localhost:8080/"
        },
        "id": "uXq7kP2AxZNd",
        "outputId": "a34d19a0-1724-4e78-9548-8df2bdbfce22"
      },
      "execution_count": null,
      "outputs": [
        {
          "output_type": "stream",
          "name": "stdout",
          "text": [
            "primeira palavra: sucesso\n",
            "segunda palavra: sucesso\n",
            "True\n",
            "False\n"
          ]
        }
      ]
    },
    {
      "cell_type": "code",
      "source": [
        "#aula 05"
      ],
      "metadata": {
        "id": "CY4MMdn2HDx0"
      },
      "execution_count": null,
      "outputs": []
    },
    {
      "cell_type": "code",
      "source": [
        "palavra = input(\"digite uma palavra: \")\n",
        "palavrab = input(\"digite uma palavra: \")\n",
        "\n",
        "if palavra == palavrab:\n",
        "  print(\"palavras iguais\")\n",
        "else:\n",
        "  print(\"palavras diferentes\")"
      ],
      "metadata": {
        "colab": {
          "base_uri": "https://localhost:8080/"
        },
        "id": "2ymlkq9qHHv7",
        "outputId": "8e6b5350-70e1-444b-b884-59f5e3aeb737"
      },
      "execution_count": null,
      "outputs": [
        {
          "output_type": "stream",
          "name": "stdout",
          "text": [
            "digite uma palavra: sucesso\n",
            "digite uma palavra: sucesso\n",
            "palavras iguais\n"
          ]
        }
      ]
    },
    {
      "cell_type": "code",
      "source": [
        "num1 = int(input(\"Digite um numero: \"))\n",
        "if num1 %2 == 0:\n",
        "  print(f\"O numero {num1} é par\")\n",
        "else:\n",
        "  print(f\"O numero {num1} é impar\")\n"
      ],
      "metadata": {
        "colab": {
          "base_uri": "https://localhost:8080/"
        },
        "id": "oOpdthuEKoo7",
        "outputId": "ec1f1fe2-d073-49b4-bf81-3911fd9ffe87"
      },
      "execution_count": null,
      "outputs": [
        {
          "output_type": "stream",
          "name": "stdout",
          "text": [
            "Digite um numero: 0\n",
            "O numero 0 é par\n"
          ]
        }
      ]
    },
    {
      "cell_type": "code",
      "source": [
        "idade = int(input(\"Digite sua idade: \"))\n",
        "if idade > 18:\n",
        "  print(f\"Maior de idade\")\n",
        "else:\n",
        "    print(f\"menor de idade\")"
      ],
      "metadata": {
        "colab": {
          "base_uri": "https://localhost:8080/"
        },
        "id": "Y_q0FgAyNDaK",
        "outputId": "1251341d-09b8-4c4a-f9cb-5d6b0fdeaf11"
      },
      "execution_count": null,
      "outputs": [
        {
          "output_type": "stream",
          "name": "stdout",
          "text": [
            "Digite sua idade: 21\n",
            "Maior de idade\n"
          ]
        }
      ]
    },
    {
      "cell_type": "code",
      "source": [
        "num = int(input(\"Digite um numero: \"))\n",
        "if num % 5 == 0:\n",
        "    print(f\"O numero {num} é divisivel por 5\")\n",
        "else:\n",
        "    print(f\"O numero {num} não é divisivel por 5\")"
      ],
      "metadata": {
        "colab": {
          "base_uri": "https://localhost:8080/"
        },
        "id": "CE37bui0NxAq",
        "outputId": "f3483011-b1b1-4cd6-c4f7-bedef6299b90"
      },
      "execution_count": null,
      "outputs": [
        {
          "output_type": "stream",
          "name": "stdout",
          "text": [
            "Digite um numero: 636\n",
            "O numero 636 não é divisivel por 5\n"
          ]
        }
      ]
    },
    {
      "cell_type": "code",
      "source": [
        "num1 = int(input(\"Dgite um numero: \"))\n",
        "num2 = int(input(\"Dgite um numero: \"))\n",
        "if num1 > num2:\n",
        "  print(f\"O numero {num1} é maior \")\n",
        "  print(f\"O numero {num2} é menor \")\n",
        "elif num1 == num2:\n",
        "  print(f\"Os numeros são iguais\")\n",
        "else:\n",
        "  print(f\"O numero {num2} é maior\")\n",
        "  print(f\" O numero {num1} é menor\")\n"
      ],
      "metadata": {
        "colab": {
          "base_uri": "https://localhost:8080/"
        },
        "id": "yUVu43X_PIDB",
        "outputId": "245a986c-063e-40cc-854c-31d2dc2f5341"
      },
      "execution_count": null,
      "outputs": [
        {
          "output_type": "stream",
          "name": "stdout",
          "text": [
            "Dgite um numero: 6\n",
            "Dgite um numero: 6\n",
            "Os numeros são iguais\n"
          ]
        }
      ]
    },
    {
      "cell_type": "code",
      "source": [
        "nome = input(\"Digite o nome: \")\n",
        "senha = input(\"Digite a senha: \")\n",
        "if nome == \"admin\" and senha == \"1234\":\n",
        "  print(f\"Login feito com sucesso\")\n",
        "else:\n",
        "  print(f\"Login falhou\")"
      ],
      "metadata": {
        "colab": {
          "base_uri": "https://localhost:8080/"
        },
        "id": "6qcOr-Q8OmEZ",
        "outputId": "fdec8f8c-bf04-4fde-ae20-03469c4ca81d"
      },
      "execution_count": null,
      "outputs": [
        {
          "output_type": "stream",
          "name": "stdout",
          "text": [
            "Digite o nome: admin\n",
            "Digite a senha: 1234\n",
            "Login feito com sucesso\n"
          ]
        }
      ]
    },
    {
      "cell_type": "code",
      "source": [
        "ano = int(input(\"Digite em que ano você nasceu: \"))\n",
        "if ano <= 2008:\n",
        "  print(f\"Você esta apto a votar em 2024\")\n",
        "else:\n",
        "  print(f\"Você nao esta apto a votar em 2024\")"
      ],
      "metadata": {
        "colab": {
          "base_uri": "https://localhost:8080/"
        },
        "id": "_7P10TbQV8UE",
        "outputId": "b97b41a7-a614-4e98-ca96-b2df50a855c6"
      },
      "execution_count": null,
      "outputs": [
        {
          "output_type": "stream",
          "name": "stdout",
          "text": [
            "Digite em que ano você nasceu: 2002\n",
            "Você esta apto a votar em 2024\n"
          ]
        }
      ]
    },
    {
      "cell_type": "code",
      "source": [
        "peso = float(input(\"Digite o seu peso: \"))\n",
        "altura = float(input(\"Digite a sua altura: \"))\n",
        "imc = peso/altura**2\n",
        "if imc < 18.5:\n",
        "  print(f\"a baixo do peso\")\n",
        "elif imc >= 18.5 and imc <= 24.9:\n",
        "  print(\"peso normal\")\n",
        "else:\n",
        "  print(\"sobrepeso, vai emagrescer vagabundo!!\")"
      ],
      "metadata": {
        "colab": {
          "base_uri": "https://localhost:8080/"
        },
        "id": "mmeX8JQFXPJI",
        "outputId": "00c121c3-c108-4c55-c769-75866cb96d41"
      },
      "execution_count": null,
      "outputs": [
        {
          "output_type": "stream",
          "name": "stdout",
          "text": [
            "Digite o seu peso: 925\n",
            "Digite a sua altura: 100.68\n",
            "a baixo do peso\n"
          ]
        }
      ]
    },
    {
      "cell_type": "code",
      "source": [
        "nome = input(\"Digite o nome: \")\n",
        "idade = int(input(\"Digite sua idade: \"))\n",
        "if idade > 18:\n",
        "  print(f\"voce pode assistir filmes +18\")\n",
        "else:\n",
        "    print(f\"voce nao pode assistir filmes +18\")"
      ],
      "metadata": {
        "colab": {
          "base_uri": "https://localhost:8080/"
        },
        "id": "rnEBrdT6nXbW",
        "outputId": "13dfd149-5b9c-4a6a-cd7e-650b6b1e0e11"
      },
      "execution_count": null,
      "outputs": [
        {
          "output_type": "stream",
          "name": "stdout",
          "text": [
            "Digite o nome: Ryan\n",
            "Digite sua idade: 21\n",
            "voce pode assistir filmes +18\n"
          ]
        }
      ]
    },
    {
      "cell_type": "code",
      "source": [
        "numero = float(input(\"digite um numero \"))\n",
        "if numero > 0:\n",
        "  print(f\"o numero é positivo\")\n",
        "elif numero == 0:\n",
        "  print(f\"numero zero\")\n",
        "else:\n",
        "  print(f\"numero negativo\")"
      ],
      "metadata": {
        "colab": {
          "base_uri": "https://localhost:8080/"
        },
        "id": "8Qud0zhJoHgB",
        "outputId": "a5840440-d7d4-4fbe-f00c-cab6be4ce2cd"
      },
      "execution_count": null,
      "outputs": [
        {
          "output_type": "stream",
          "name": "stdout",
          "text": [
            "digite um numero -1\n",
            "numero negativo\n"
          ]
        }
      ]
    },
    {
      "cell_type": "code",
      "source": [
        "ladoA = float(input(\"digite o tamanho do lado A: \"))\n",
        "ladoB = float(input(\"digite o tamanho do lado B: \"))\n",
        "ladoC = float(input(\"digite o tamanho do lado C: \"))\n",
        "if (ladoA+ladoB) > ladoC or (ladoA+ladoC) > ladoB or (ladoB+ladoC) > ladoA:\n",
        "  print(f\"Os lados A, B e C podem formar um triangulo\")\n",
        "else:\n",
        "  print(f\"os lados A, B e C nao podem formar um triangulo\")"
      ],
      "metadata": {
        "colab": {
          "base_uri": "https://localhost:8080/"
        },
        "id": "oqAV-CAuyG54",
        "outputId": "bab7a060-ccf9-4213-d6d8-a7dcfa92bfd2"
      },
      "execution_count": null,
      "outputs": [
        {
          "output_type": "stream",
          "name": "stdout",
          "text": [
            "digite o tamanho do lado A: 50\n",
            "digite o tamanho do lado B: 50\n",
            "digite o tamanho do lado C: 111\n",
            "Os lados A, B e C podem formar um triangulo\n"
          ]
        }
      ]
    },
    {
      "cell_type": "code",
      "source": [
        "acumulado = 0\n",
        "for i in range(1,8):\n",
        "  quant = int(input(f\"digite a quantidade do dia {i}: \"))\n",
        "  acumulado += quant\n",
        "print(f\"voce vendeu {acumulado} açais e recebeu um total de R$ {acumulado*3}\")"
      ],
      "metadata": {
        "colab": {
          "base_uri": "https://localhost:8080/"
        },
        "id": "jPZQmBCsKT-C",
        "outputId": "ebcc41c5-8f38-45c8-c3f0-00c43a0e704b"
      },
      "execution_count": null,
      "outputs": [
        {
          "output_type": "stream",
          "name": "stdout",
          "text": [
            "digite a quantidade do dia 1: 7\n",
            "digite a quantidade do dia 2: 7\n",
            "digite a quantidade do dia 3: 7\n",
            "digite a quantidade do dia 4: 7\n",
            "digite a quantidade do dia 5: 8\n",
            "digite a quantidade do dia 6: 9\n",
            "digite a quantidade do dia 7: 8\n",
            "voce vendeu 53 açais e recebeu um total de R$ 159\n"
          ]
        }
      ]
    },
    {
      "cell_type": "code",
      "source": [
        "for i in range(1,101):\n",
        "  print(i, end=\" \")"
      ],
      "metadata": {
        "colab": {
          "base_uri": "https://localhost:8080/"
        },
        "collapsed": true,
        "id": "2Pxs2_VcPeyj",
        "outputId": "fe256ba8-3d7a-4b37-b071-4e6504bdbe6c"
      },
      "execution_count": null,
      "outputs": [
        {
          "output_type": "stream",
          "name": "stdout",
          "text": [
            "1 2 3 4 5 6 7 8 9 10 11 12 13 14 15 16 17 18 19 20 21 22 23 24 25 26 27 28 29 30 31 32 33 34 35 36 37 38 39 40 41 42 43 44 45 46 47 48 49 50 51 52 53 54 55 56 57 58 59 60 61 62 63 64 65 66 67 68 69 70 71 72 73 74 75 76 77 78 79 80 81 82 83 84 85 86 87 88 89 90 91 92 93 94 95 96 97 98 99 100 "
          ]
        }
      ]
    },
    {
      "cell_type": "code",
      "source": [
        "for i in range(200,0,-1):\n",
        "  print(i, end=\" \")"
      ],
      "metadata": {
        "colab": {
          "base_uri": "https://localhost:8080/"
        },
        "id": "3NVVR2ApP6jF",
        "outputId": "2e06c663-e2fa-4500-8a0a-530e5e42bc66"
      },
      "execution_count": null,
      "outputs": [
        {
          "output_type": "stream",
          "name": "stdout",
          "text": [
            "200 199 198 197 196 195 194 193 192 191 190 189 188 187 186 185 184 183 182 181 180 179 178 177 176 175 174 173 172 171 170 169 168 167 166 165 164 163 162 161 160 159 158 157 156 155 154 153 152 151 150 149 148 147 146 145 144 143 142 141 140 139 138 137 136 135 134 133 132 131 130 129 128 127 126 125 124 123 122 121 120 119 118 117 116 115 114 113 112 111 110 109 108 107 106 105 104 103 102 101 100 99 98 97 96 95 94 93 92 91 90 89 88 87 86 85 84 83 82 81 80 79 78 77 76 75 74 73 72 71 70 69 68 67 66 65 64 63 62 61 60 59 58 57 56 55 54 53 52 51 50 49 48 47 46 45 44 43 42 41 40 39 38 37 36 35 34 33 32 31 30 29 28 27 26 25 24 23 22 21 20 19 18 17 16 15 14 13 12 11 10 9 8 7 6 5 4 3 2 1 "
          ]
        }
      ]
    },
    {
      "cell_type": "code",
      "source": [
        "soma = 0\n",
        "for i in range(0,201):\n",
        "  soma += i\n",
        "print(\"a soma dos numeros é igual a:\", soma)"
      ],
      "metadata": {
        "colab": {
          "base_uri": "https://localhost:8080/"
        },
        "collapsed": true,
        "id": "TU-aYkEhQMaO",
        "outputId": "792e42ff-9401-45ca-8574-f05fbcfecc5d"
      },
      "execution_count": null,
      "outputs": [
        {
          "output_type": "stream",
          "name": "stdout",
          "text": [
            "a soma dos numeros é igual a: 20100\n"
          ]
        }
      ]
    },
    {
      "cell_type": "code",
      "source": [
        "inicio = 0\n",
        "atual = 1\n",
        "for i in range(1,25):\n",
        "  temp = atual\n",
        "  atual += inicio\n",
        "  inicio = temp\n",
        "print(f\"{atual}\")"
      ],
      "metadata": {
        "colab": {
          "base_uri": "https://localhost:8080/"
        },
        "id": "2et9CoJeS-Qr",
        "outputId": "2d63db31-0f30-4094-e8b5-86f59d97bda4"
      },
      "execution_count": null,
      "outputs": [
        {
          "output_type": "stream",
          "name": "stdout",
          "text": [
            "75025\n"
          ]
        }
      ]
    },
    {
      "cell_type": "code",
      "source": [
        "n = int(input(\"Digite um valor: \"))\n",
        "soma = 0\n",
        "for i in range (1, n + 1):\n",
        "    soma = soma+i\n",
        "print(soma)"
      ],
      "metadata": {
        "colab": {
          "base_uri": "https://localhost:8080/"
        },
        "id": "p1U04EdhokUg",
        "outputId": "05a3eedd-24e6-4444-f895-a9515f8e0d25"
      },
      "execution_count": null,
      "outputs": [
        {
          "output_type": "stream",
          "name": "stdout",
          "text": [
            "Digite um valor: 9\n",
            "45\n"
          ]
        }
      ]
    },
    {
      "cell_type": "code",
      "source": [
        "# Calcule o fatorial de um número inteiro positivo usando um loop while.\n",
        "n = int(input(\"Digite um valor: \"))\n",
        "fat = 1\n",
        "while n > 0:\n",
        "    fat = fat * n\n",
        "    n = n - 1\n",
        "print(fat)"
      ],
      "metadata": {
        "colab": {
          "base_uri": "https://localhost:8080/"
        },
        "id": "wxvSM0Cbqi6e",
        "outputId": "8c794e13-84ba-4320-fb39-5287c6fe1da5"
      },
      "execution_count": null,
      "outputs": [
        {
          "output_type": "stream",
          "name": "stdout",
          "text": [
            "Digite um valor: 5\n",
            "120\n"
          ]
        }
      ]
    },
    {
      "cell_type": "code",
      "source": [
        "# Gere a sequência de Fibonacci até o décimo termo usando um loop for.\n",
        "inicio = 0\n",
        "atual = 1\n",
        "for i in range(1,10):\n",
        "  print(atual)\n",
        "  temp = atual\n",
        "  atual= atual + inicio\n",
        "  inicio = temp\n",
        "print(f\"{atual}\")"
      ],
      "metadata": {
        "colab": {
          "base_uri": "https://localhost:8080/"
        },
        "id": "PFj4DFzjtiw6",
        "outputId": "005cf3ef-620d-4999-b91c-cf27167c49ef"
      },
      "execution_count": null,
      "outputs": [
        {
          "output_type": "stream",
          "name": "stdout",
          "text": [
            "1\n",
            "1\n",
            "2\n",
            "3\n",
            "5\n",
            "8\n",
            "13\n",
            "21\n",
            "34\n",
            "55\n"
          ]
        }
      ]
    },
    {
      "cell_type": "code",
      "source": [
        "# Imprima todos os números pares de 1 a 100 usando um loop for.\n",
        "for i in range(1,101):\n",
        "  if i%2==2:\n",
        "    print(i,end=\" \")"
      ],
      "metadata": {
        "id": "PsVtMZmpvOhg"
      },
      "execution_count": null,
      "outputs": []
    },
    {
      "cell_type": "code",
      "source": [
        "# Calcule e exiba a média de números inseridos pelo usuário até que ele digite -1, usando um loop while.\n",
        "soma = 0\n",
        "contador = 0\n",
        "n = int(input(\"Digite um numero inteiro: \"))\n",
        "while n > 0:\n",
        "  soma = soma + n\n",
        "  contador += 1\n",
        "  n = int(input(\"Digite um numero inteiro: \"))\n",
        "media = soma / (contador)\n",
        "print(media)"
      ],
      "metadata": {
        "colab": {
          "base_uri": "https://localhost:8080/"
        },
        "id": "jwv4vbA3wRL1",
        "outputId": "6ee6aca6-30d9-4016-d419-4e9b356a873b"
      },
      "execution_count": null,
      "outputs": [
        {
          "output_type": "stream",
          "name": "stdout",
          "text": [
            "Digite um numero inteiro: 5\n",
            "Digite um numero inteiro: 5\n",
            "Digite um numero inteiro: 5\n",
            "Digite um numero inteiro: -1\n",
            "5.0\n"
          ]
        }
      ]
    },
    {
      "cell_type": "code",
      "source": [
        "# Faça uma contagem regressiva até zero a partir de um número fornecido pelo usuário usando um loop while.\n",
        "\n",
        "n = int(input(\"Digite um numero: \"))\n",
        "while n >= 0:\n",
        "  print(n, end=\" \")\n",
        "  n -= 1"
      ],
      "metadata": {
        "colab": {
          "base_uri": "https://localhost:8080/"
        },
        "id": "NE2N1eU6y9mn",
        "outputId": "5332f897-4cea-43c0-e00f-35486d51b987"
      },
      "execution_count": null,
      "outputs": [
        {
          "output_type": "stream",
          "name": "stdout",
          "text": [
            "Digite um numero: 20\n",
            "20 19 18 17 16 15 14 13 12 11 10 9 8 7 6 5 4 3 2 1 0 "
          ]
        }
      ]
    },
    {
      "cell_type": "code",
      "source": [
        "# Crie um jogo de adivinhação em que o usuário deve adivinhar um número entre 1 e 100, com dicas de maior ou menor, usando um loop while.\n",
        "import random\n",
        "num_premio = random.randrange(1,100)\n",
        "num_premio = 57\n",
        "while n != num_premio:\n",
        "  n = int(input(\"Digite um numero: \"))\n",
        "  if n > nume_premio:\n",
        "    print(\"É menor!\")\n",
        "  elif n < nume_premio:\n",
        "    print(\"É maior!\")\n",
        "  else:\n",
        "    print(\"Voce acertou\")"
      ],
      "metadata": {
        "id": "lQwZUAqQ0i9X"
      },
      "execution_count": null,
      "outputs": []
    },
    {
      "cell_type": "code",
      "source": [
        "# Calcule a soma de todos os dígitos de um número inteiro usando um loop while.\n",
        "num = int(input(\"Digite um numero: \"))\n",
        "soma = 0\n",
        "while num > 0:\n",
        "  div = num % 10\n",
        "  num //= 10\n",
        "  soma += div\n",
        "print(soma)\n"
      ],
      "metadata": {
        "colab": {
          "base_uri": "https://localhost:8080/"
        },
        "id": "-APCCOXA3S1u",
        "outputId": "e90c8db6-3d48-4a23-f2fd-f3f65f6024d5"
      },
      "execution_count": null,
      "outputs": [
        {
          "output_type": "stream",
          "name": "stdout",
          "text": [
            "Digite um numero: 563\n",
            "14\n"
          ]
        }
      ]
    },
    {
      "cell_type": "code",
      "source": [
        "# Verifique se um número é primo usando um loop for\n",
        "num = int(input(\"Digite um numero: \"))\n",
        "primo = True\n",
        "for i in range(2,num):\n",
        "  if num % i == 0:\n",
        "    primo = False\n",
        "    break\n",
        "  elif primo:\n",
        "    print(f\"o numero {num} é primo\")\n",
        "  else:\n",
        "    print(f\" o numero {num} nao é primo\")"
      ],
      "metadata": {
        "id": "75tCVp_k5amV",
        "colab": {
          "base_uri": "https://localhost:8080/"
        },
        "outputId": "f911f798-06f3-43df-c627-9fefba188797"
      },
      "execution_count": null,
      "outputs": [
        {
          "name": "stdout",
          "output_type": "stream",
          "text": [
            "Digite um numero: 6\n"
          ]
        }
      ]
    },
    {
      "cell_type": "code",
      "source": [
        "# Desenvolva um programa que continue solicitando um número até que o usuário forneça um número positivo e par, utilizando uma estrutura de repetição `while`.\n",
        "\n",
        "while True:\n",
        "  num = int(input(\"Digite um numero: \"))\n",
        "  if num >= 0 and num % 2 == 0:\n",
        "    print(f\"este numero é par\")\n",
        "    break\n",
        "  else:\n",
        "    print(f\"erro\")\n"
      ],
      "metadata": {
        "colab": {
          "base_uri": "https://localhost:8080/"
        },
        "id": "gNEIctIqPiHo",
        "outputId": "0a1d9f7d-b69a-4bcc-e7cf-3f4f346a0667"
      },
      "execution_count": null,
      "outputs": [
        {
          "output_type": "stream",
          "name": "stdout",
          "text": [
            "Digite um numero: 0\n",
            "este numero é par\n"
          ]
        }
      ]
    },
    {
      "cell_type": "code",
      "source": [
        "# Faça um programa que percorra uma lista de números utilizando um laço `for` e exiba aqueles que são divisíveis por 3.\n",
        "for i in range(1,101):\n",
        "  if i % 3 == 0:\n",
        "    print(i,end=\" \")"
      ],
      "metadata": {
        "colab": {
          "base_uri": "https://localhost:8080/"
        },
        "id": "D57EM6y7SaX1",
        "outputId": "a5654e00-7d64-4cc1-83ba-d07a2835a6ae"
      },
      "execution_count": null,
      "outputs": [
        {
          "output_type": "stream",
          "name": "stdout",
          "text": [
            "3 6 9 12 15 18 21 24 27 30 33 36 39 42 45 48 51 54 57 60 63 66 69 72 75 78 81 84 87 90 93 96 99 "
          ]
        }
      ]
    },
    {
      "cell_type": "code",
      "source": [
        "# Crie um programa que peça repetidamente uma senha ao usuário, até que ele acerte, usando um laço `while`.\n",
        "while True:\n",
        "  num = input(\"Digite a senha: \")\n",
        "  senha = \"heroi mais forte\"\n",
        "  if num == senha:\n",
        "    print(f\"Ola Toni!!\")\n",
        "    break\n",
        "  else:\n",
        "    print(f\"Não é essa a senha, playboyzinho\")"
      ],
      "metadata": {
        "colab": {
          "base_uri": "https://localhost:8080/"
        },
        "id": "bUClPkAkTZmK",
        "outputId": "c6442c2a-8f8a-4896-e187-ab7f66f7574c"
      },
      "execution_count": null,
      "outputs": [
        {
          "output_type": "stream",
          "name": "stdout",
          "text": [
            "Digite a senha: payboyzinho\n",
            "Não é essa a senha, playboyzinho\n",
            "Digite a senha: heroi mais forte\n",
            "Ola Toni!!\n"
          ]
        }
      ]
    },
    {
      "cell_type": "code",
      "source": [
        "# Crie um programa que percorra uma lista de números com um laço `for` e exiba aqueles que estão em posições ímpares na lista.\n",
        "\n",
        "for i in range (1,101):\n",
        "  if i % 2 == 1:\n",
        "    print(i,end=\" \")"
      ],
      "metadata": {
        "colab": {
          "base_uri": "https://localhost:8080/"
        },
        "id": "SHiMjrDzW5bW",
        "outputId": "8bf217a2-619d-49ba-fcab-131eb3e14125"
      },
      "execution_count": null,
      "outputs": [
        {
          "output_type": "stream",
          "name": "stdout",
          "text": [
            "1 3 5 7 9 11 13 15 17 19 21 23 25 27 29 31 33 35 37 39 41 43 45 47 49 51 53 55 57 59 61 63 65 67 69 71 73 75 77 79 81 83 85 87 89 91 93 95 97 99 "
          ]
        }
      ]
    },
    {
      "cell_type": "code",
      "source": [
        "# Desenvolva um programa que calcule o fatorial de um número fornecido pelo usuário, utilizando um laço `for`.\n",
        "\n",
        "n = int(input(\"Digite um valor: \"))\n",
        "fat = 1\n",
        "for i in range(1,n+1):\n",
        "  fat *= i\n",
        "print(fat)"
      ],
      "metadata": {
        "colab": {
          "base_uri": "https://localhost:8080/"
        },
        "id": "W8pH5wMdXlIM",
        "outputId": "af8c9275-7440-4cb2-9d5f-146b1ee89f4e"
      },
      "execution_count": null,
      "outputs": [
        {
          "output_type": "stream",
          "name": "stdout",
          "text": [
            "Digite um valor: 5\n",
            "120\n"
          ]
        }
      ]
    },
    {
      "cell_type": "code",
      "source": [
        "# Crie um programa que simule um sistema de caixa eletrônico, onde o usuário deve continuar informando o valor a ser sacado até que não haja saldo suficiente, utilizando um laço `while`.\n",
        "\n",
        "saldo = 100\n",
        "while True:\n",
        "  saque = float(input(\"Digite o valor a ser sacado: \"))\n",
        "  saldo -= saque                                              #feito pelo professor\n",
        "  if saldo <= 0:\n",
        "    print(f\"Saldo atual: R$ 0 - Faliu!!!\")\n",
        "    break\n",
        "  else:\n",
        "    print(f\"Você sacou R${saque:.2f}. Saldo atual: R${saldo:.2f}\")"
      ],
      "metadata": {
        "colab": {
          "base_uri": "https://localhost:8080/"
        },
        "id": "vYSI9QiGrG-s",
        "outputId": "01f0c52c-11a5-4e27-8eeb-0142840b0bce"
      },
      "execution_count": null,
      "outputs": [
        {
          "output_type": "stream",
          "name": "stdout",
          "text": [
            "Digite o valor a ser sacado: 99\n",
            "Você sacou R$99.00. Saldo atual: R$1.00\n",
            "Digite o valor a ser sacado: 1\n",
            "Saldo atual: R$ 0 - Faliu!!!\n"
          ]
        }
      ]
    },
    {
      "cell_type": "code",
      "source": [
        "## Crie um programa que simule um sistema de caixa eletrônico, onde o usuário deve continuar informando o valor a ser sacado até que não haja saldo suficiente, utilizando um laço `while`.\n",
        "\n",
        "# feito por mim\n",
        "\n",
        "saldo = 1000\n",
        "while True:\n",
        "  saque = float(input(\"Digite o valor a ser sacado: \"))\n",
        "  saldo -= saque\n",
        "  if saldo <=0:\n",
        "    break\n",
        "  else:\n",
        "    print(f\"Voce sacou R$ {saque:.2f}. Saldo atual: R$ {saldo:.2f}\")"
      ],
      "metadata": {
        "colab": {
          "base_uri": "https://localhost:8080/"
        },
        "id": "CqlTcnhQwxek",
        "outputId": "ce1dd9a9-1478-4d66-b56e-437389596911"
      },
      "execution_count": null,
      "outputs": [
        {
          "name": "stdout",
          "output_type": "stream",
          "text": [
            "Digite o valor a ser sacado: 999\n",
            "Voce sacou R$ 999.00. Saldo atual: R$ 1.00\n",
            "Digite o valor a ser sacado: 1\n"
          ]
        }
      ]
    },
    {
      "cell_type": "code",
      "source": [
        "7 # Faça um programa que peça ao usuário uma lista de números e continue pedindo até que o número 0 seja fornecido. No final, exiba a soma dos números pares fornecidos, usando uma estrutura `while`.\n",
        "\n",
        "num = int(input(\"Digite um numero: \"))\n",
        "soma = 0\n",
        "while num != 0:\n",
        "  if num % 2 == 0:\n",
        "    soma += num\n",
        "  num = int(input(\"Digite um numero: \"))\n",
        "print(f\"A soma dos numeros pares é {soma}\")"
      ],
      "metadata": {
        "id": "P-Xcx3a72LUc",
        "colab": {
          "base_uri": "https://localhost:8080/"
        },
        "outputId": "28b4e710-ca7e-4d13-8bb2-bcbe456f8e67"
      },
      "execution_count": null,
      "outputs": [
        {
          "output_type": "stream",
          "name": "stdout",
          "text": [
            "Digite um numero: 8\n",
            "Digite um numero: 1\n",
            "Digite um numero: 0\n",
            "A soma dos numeros pares é 8\n"
          ]
        }
      ]
    },
    {
      "cell_type": "code",
      "source": [
        "# 8 Escreva um programa que receba uma lista de nomes e, utilizando um laço `for`, exiba apenas aqueles com mais de 5 caracteres.\n",
        "nomes = input(\"Digite o nome: \")\n",
        "for nome in nomes:\n",
        "  if len(nome) > 5:\n",
        "    print(nome)"
      ],
      "metadata": {
        "colab": {
          "base_uri": "https://localhost:8080/"
        },
        "id": "McXRdIspRbWb",
        "outputId": "733e735d-2166-486a-a415-bb69226e0655"
      },
      "execution_count": null,
      "outputs": [
        {
          "name": "stdout",
          "output_type": "stream",
          "text": [
            "Digite o nome: ryan joaquin francisco\n"
          ]
        }
      ]
    },
    {
      "cell_type": "code",
      "source": [
        "# 9 Desenvolva um programa que receba números inteiros até que o usuário digite um número negativo e, ao final, exiba a soma desses números, utilizando um laço `while`.\n",
        "\n",
        "num = int(input(\"Digite um numero: \"))\n",
        "soma = 0\n",
        "while num >= 0:\n",
        "  soma += num\n",
        "  num = int(input(\"Digite um numero: \"))\n",
        "print(f\"a soma é {soma}\")"
      ],
      "metadata": {
        "colab": {
          "base_uri": "https://localhost:8080/"
        },
        "id": "9ZsDhxGbTsNZ",
        "outputId": "f5d4dae7-aaea-4921-839f-d15fa5bae64a"
      },
      "execution_count": null,
      "outputs": [
        {
          "output_type": "stream",
          "name": "stdout",
          "text": [
            "Digite um numero: 4654\n",
            "Digite um numero: 64351\n",
            "Digite um numero: 24\n",
            "Digite um numero: 55\n",
            "Digite um numero: -45\n",
            "a soma é 69084\n"
          ]
        }
      ]
    },
    {
      "cell_type": "code",
      "source": [
        "# 10 Crie um programa que continue solicitando a entrada de uma palavra até que o usuário digite \"sair\", utilizando um laço `while`.\n",
        "\n",
        "palavra = input(\"Digite um numero: \")\n",
        "while palavra != \"sair\":\n",
        "  palavra = input(\"Digite uma palavra: \")"
      ],
      "metadata": {
        "colab": {
          "base_uri": "https://localhost:8080/"
        },
        "id": "SeVFN1rWZV24",
        "outputId": "e8581890-c484-4bd0-b002-f1c5874952be"
      },
      "execution_count": null,
      "outputs": [
        {
          "name": "stdout",
          "output_type": "stream",
          "text": [
            "Digite um numero: ryan\n",
            "Digite uma palavra: privacy\n",
            "Digite uma palavra: xvi...\n",
            "Digite uma palavra: teorica do big bang\n",
            "Digite uma palavra: a\n",
            "Digite uma palavra: professor\n",
            "Digite uma palavra: sair\n"
          ]
        }
      ]
    },
    {
      "cell_type": "code",
      "source": [
        "# 11 Percorra uma lista de números usando um laço `for` e exiba somente os números pares.\n",
        "\n",
        "numeros = 0\n",
        "for i in range(1,15):\n",
        "  if i % 2 == 0:\n",
        "    print(i)"
      ],
      "metadata": {
        "colab": {
          "base_uri": "https://localhost:8080/"
        },
        "id": "xQ_lCStZaExV",
        "outputId": "29d29177-edf6-4def-9284-938921e9d330"
      },
      "execution_count": null,
      "outputs": [
        {
          "output_type": "stream",
          "name": "stdout",
          "text": [
            "2\n",
            "4\n",
            "6\n",
            "8\n",
            "10\n",
            "12\n",
            "14\n"
          ]
        }
      ]
    },
    {
      "cell_type": "code",
      "source": [
        "# 12 Faça um programa que percorra uma lista de números com um laço `for` e exiba apenas aqueles que são primos.\n",
        "\n",
        "numeros = 0\n",
        "for i in range(1,100):\n",
        "  if i % i == 1 or i % 1 == i:\n",
        "    print(i)"
      ],
      "metadata": {
        "id": "sguSTPWka53o"
      },
      "execution_count": null,
      "outputs": []
    },
    {
      "cell_type": "code",
      "source": [
        "# 13 Escreva um programa que calcule a soma dos números de 1 a 100 utilizando um laço `for`.\n",
        "soma = 0\n",
        "for i in range(1,101):\n",
        "  soma += i\n",
        "print(f\"A soma é {soma}\")"
      ],
      "metadata": {
        "colab": {
          "base_uri": "https://localhost:8080/"
        },
        "id": "oVd1__fEgIEa",
        "outputId": "a3628437-b240-4252-be5e-de91bd7dc2b6"
      },
      "execution_count": null,
      "outputs": [
        {
          "output_type": "stream",
          "name": "stdout",
          "text": [
            "A soma é 5050\n"
          ]
        }
      ]
    },
    {
      "cell_type": "code",
      "source": [
        "# 14 Crie um programa que percorra uma lista de números e exiba o menor número, utilizando uma estrutura de repetição `while`.\n",
        "lista = [134,34,46,457,4,653,7]\n",
        "menor = lista[0]\n",
        "i = 1\n",
        "while i < len(lista):\n",
        "  if lista[i] < menor:\n",
        "    menor = lista[i]\n",
        "  i += 1\n",
        "print(menor)"
      ],
      "metadata": {
        "id": "sdmooB-Qhm_G",
        "colab": {
          "base_uri": "https://localhost:8080/"
        },
        "outputId": "f1aabe79-d77e-4b63-c806-f639dd005134"
      },
      "execution_count": null,
      "outputs": [
        {
          "output_type": "stream",
          "name": "stdout",
          "text": [
            "4\n"
          ]
        }
      ]
    },
    {
      "cell_type": "code",
      "source": [
        "# 15 Simule uma votação em que o usuário pode votar em 3 candidatos e a votação continua até que o usuário digite \"fim\", utilizando um laço `while`.\n",
        "candidatos = [\"Joao feijao\",\"Tres Marias\",\"Joaco esportes\",\"Pedro Fedelho\",\"Suzana mulamba\"]\n",
        "i = 0\n",
        "while i < len(candidatos):\n",
        "    print(f\"{i + 20} - {candidatos[i]}\")\n",
        "    i += 1\n",
        "votoA = int(input(\"Digite seu 1º candidato: \"))\n",
        "votoB = int(input(\"Digite seu 2º candidato: \"))\n",
        "votoC = int(input(\"Digite seu 3º candidato: \"))\n",
        "while True:\n",
        "  votoD =  input(\"Digite fim para finalizar: \")\n",
        "  if votoD == \"fim\":\n",
        "    print(\"Votação finalizada!!\")\n",
        "    break"
      ],
      "metadata": {
        "colab": {
          "base_uri": "https://localhost:8080/"
        },
        "id": "eI6TcSvA0Io8",
        "outputId": "fc8d060a-6dfd-4b6b-a900-64f14c037b39"
      },
      "execution_count": null,
      "outputs": [
        {
          "output_type": "stream",
          "name": "stdout",
          "text": [
            "20 - Joao feijao\n",
            "21 - Tres Marias\n",
            "22 - Joaco esportes\n",
            "23 - Pedro Fedelho\n",
            "24 - Suzana mulamba\n",
            "Digite seu 1º candidato: 21\n",
            "Digite seu 2º candidato: 20\n",
            "Digite seu 3º candidato: 23\n",
            "Digite fim para finalizar: fim\n",
            "Votação finalizada!!\n"
          ]
        }
      ]
    },
    {
      "cell_type": "code",
      "source": [
        "# 16 Crie um programa que percorra uma lista de números e exiba o quadrado de cada número, utilizando um laço `for`.\n",
        "\n"
      ],
      "metadata": {
        "id": "A3YtY3H_0vZY"
      },
      "execution_count": null,
      "outputs": []
    },
    {
      "cell_type": "code",
      "source": [
        "# 17 Faça um programa que receba uma lista de nomes e, usando um laço `for`, exiba apenas aqueles que começam com a letra \"A\".\n",
        "\n"
      ],
      "metadata": {
        "id": "tZdyIo7P0xgb"
      },
      "execution_count": null,
      "outputs": []
    },
    {
      "cell_type": "code",
      "source": [
        "# 18 Desenvolva um programa que solicite ao usuário uma senha e continue pedindo até que a senha atenda a critérios de complexidade (mínimo 8 caracteres, pelo menos uma letra maiúscula, uma minúscula e um número), utilizando um laço `while`.\n",
        "\n"
      ],
      "metadata": {
        "id": "JaJYMbWU00vx"
      },
      "execution_count": null,
      "outputs": []
    },
    {
      "cell_type": "code",
      "source": [
        "# 19 Faça um programa que peça números ao usuário e exiba a média dos números digitados até que o usuário digite zero, utilizando uma estrutura de repetição `while`.\n",
        "\n"
      ],
      "metadata": {
        "id": "aXod5BFw04-K"
      },
      "execution_count": null,
      "outputs": []
    },
    {
      "cell_type": "code",
      "source": [
        "# 20 Crie um programa que percorra uma lista de números utilizando um laço `for` e exiba aqueles que são maiores que 10.\n",
        "\n"
      ],
      "metadata": {
        "id": "c8WFOGPr0706"
      },
      "execution_count": null,
      "outputs": []
    },
    {
      "cell_type": "code",
      "source": [
        "# 1. Crie uma lista com os números de 1 a 10. Acesse o primeiro e o último elemento da lista e imprima-os.\n",
        "\n",
        "lista = []\n",
        "for i in range(1,11):\n",
        "  lista.append(i)\n",
        "print(lista[0])\n",
        "print(lista[-1])"
      ],
      "metadata": {
        "colab": {
          "base_uri": "https://localhost:8080/"
        },
        "id": "b5TEmOQoWG77",
        "outputId": "9b15f62d-3a23-4dd6-acd1-df1eb430b822"
      },
      "execution_count": null,
      "outputs": [
        {
          "output_type": "stream",
          "name": "stdout",
          "text": [
            "1\n",
            "10\n"
          ]
        }
      ]
    },
    {
      "cell_type": "code",
      "source": [
        "# 2. Crie uma lista vazia e adicione os números 1, 2, e 3. Em seguida, insira o número 0 no início da lista e o número 4 na posição 4. Imprima a lista final.\n",
        "\n",
        "listinha = []\n",
        "listinha.extend([1,2,3])\n",
        "listinha.insert(0,0)\n",
        "listinha.insert(4,4)\n",
        "print(listinha)\n"
      ],
      "metadata": {
        "colab": {
          "base_uri": "https://localhost:8080/"
        },
        "id": "7ZFQKg-cZTDj",
        "outputId": "17d09fbc-9a49-4288-bff0-8692ff2fb011"
      },
      "execution_count": null,
      "outputs": [
        {
          "output_type": "stream",
          "name": "stdout",
          "text": [
            "[0, 1, 2, 3, 4]\n"
          ]
        }
      ]
    },
    {
      "cell_type": "code",
      "source": [
        "# 3. Crie uma lista com os elementos ['maçã', 'banana', 'laranja', 'uva', 'maçã']. Remova a primeira ocorrência de \"maçã\" e depois remova o último elemento da lista. Imprima a lista resultante.\n",
        "\n",
        "lista = ['maçã', 'banana', 'laranja', 'uva', 'maçã']\n",
        "lista.remove(\"maçã\")\n",
        "print(lista)\n",
        "lista.remove(\"maçã\")\n",
        "print(lista)"
      ],
      "metadata": {
        "colab": {
          "base_uri": "https://localhost:8080/"
        },
        "id": "xoPrf0RIcCYR",
        "outputId": "ee04af03-c7d9-4365-aa4b-a4a0316eb757"
      },
      "execution_count": null,
      "outputs": [
        {
          "output_type": "stream",
          "name": "stdout",
          "text": [
            "['banana', 'laranja', 'uva', 'maçã']\n",
            "['banana', 'laranja', 'uva']\n"
          ]
        }
      ]
    },
    {
      "cell_type": "code",
      "source": [
        "# 4. Dada a lista ['a', 'b', 'a', 'c', 'a', 'b'], conte quantas vezes o valor 'a' aparece na lista e imprima o resultado.\n",
        "\n",
        "lista = ['a', 'b', 'a', 'c', 'a', 'b']\n",
        "contador = lista.count('a')\n",
        "print(contador)\n"
      ],
      "metadata": {
        "colab": {
          "base_uri": "https://localhost:8080/"
        },
        "id": "Sh-SZBGceIDz",
        "outputId": "fbff24a1-37cf-45dd-e0bd-bf32959b60b2"
      },
      "execution_count": null,
      "outputs": [
        {
          "output_type": "stream",
          "name": "stdout",
          "text": [
            "3\n"
          ]
        }
      ]
    },
    {
      "cell_type": "code",
      "source": [
        "# 5. Crie uma lista com os números [5, 3, 9, 1, 7]. Ordene a lista em ordem crescente e depois em ordem decrescente. Imprima ambas as listas.\n",
        "\n",
        "lista = [5, 3, 9, 1, 7]\n",
        "crescente = lista.sort()\n",
        "print(lista)\n",
        "\n",
        "decrescente = lista.sort(reverse = True)\n",
        "print(lista)"
      ],
      "metadata": {
        "colab": {
          "base_uri": "https://localhost:8080/"
        },
        "id": "saDpt1eNi8VS",
        "outputId": "0fc9ecba-cbb2-4736-f00e-2772efdfaf4b"
      },
      "execution_count": null,
      "outputs": [
        {
          "output_type": "stream",
          "name": "stdout",
          "text": [
            "[1, 3, 5, 7, 9]\n",
            "[9, 7, 5, 3, 1]\n"
          ]
        }
      ]
    },
    {
      "cell_type": "code",
      "source": [
        "# 6. Crie uma lista com os números [15, 23, 4, 42, 8]. Encontre e imprima o maior e o menor valor da lista.\n",
        "\n",
        "lista = [15, 23, 4, 42, 8]\n",
        "maior = max(lista)\n",
        "menor = min(lista)\n",
        "print(maior)\n",
        "print(menor)"
      ],
      "metadata": {
        "colab": {
          "base_uri": "https://localhost:8080/"
        },
        "id": "NTyK4kvc0xye",
        "outputId": "b61de90f-d03f-4cbe-ee5d-d912bde156f5"
      },
      "execution_count": null,
      "outputs": [
        {
          "output_type": "stream",
          "name": "stdout",
          "text": [
            "42\n",
            "4\n"
          ]
        }
      ]
    },
    {
      "cell_type": "code",
      "source": [
        "# 7. Verifique se o número 25 está presente na lista [10, 20, 30, 40, 50].\n",
        "\n",
        "lista7 = [10, 20, 30, 40, 50]\n",
        "\n",
        "if 25 in lista7:\n",
        "\n",
        "    print(\"\\n7. O número 25 foi encontrado na lista.\")\n",
        "\n",
        "else:\n",
        "\n",
        "    print(\"\\n7. O número 25 não foi encontrado na lista.\")\n",
        "\n"
      ],
      "metadata": {
        "colab": {
          "base_uri": "https://localhost:8080/"
        },
        "id": "pRrs_5xI6T7_",
        "outputId": "a2f80a13-81f1-49b0-f49a-e83d74460c04"
      },
      "execution_count": null,
      "outputs": [
        {
          "output_type": "stream",
          "name": "stdout",
          "text": [
            "\n",
            "7. O número 25 não foi encontrado na lista.\n"
          ]
        }
      ]
    },
    {
      "cell_type": "code",
      "source": [
        "# 8. Calcule a soma de todos os elementos da lista [1, 2, 3, 4, 5].\n",
        "\n",
        "lista8 = [1, 2, 3, 4, 5]\n",
        "\n",
        "soma_lista8 = sum(lista8)\n",
        "\n",
        "print(\"\\n8. A soma de todos os elementos da lista é:\", soma_lista8)\n",
        "\n"
      ],
      "metadata": {
        "id": "vFdt5Jf96fg4"
      },
      "execution_count": null,
      "outputs": []
    },
    {
      "cell_type": "code",
      "source": [
        "# 9. Crie uma lista contendo os quadrados dos números de 1 a 10 usando list comprehension.\n",
        "\n",
        "lista9 = [x**2 for x in range(1, 11)]\n",
        "\n",
        "print(\"\\n9. Lista com os quadrados de 1 a 10:\", lista9)\n",
        "\n"
      ],
      "metadata": {
        "id": "hJdcqOCB6iUw"
      },
      "execution_count": null,
      "outputs": []
    },
    {
      "cell_type": "code",
      "source": [
        "# 10. Crie uma nova lista contendo apenas os números pares da lista [10, 15, 20, 25, 30, 35, 40].\n",
        "\n",
        "lista10 = [10, 15, 20, 25, 30, 35, 40]\n",
        "\n",
        "lista_pares = [x for x in lista10 if x % 2 == 0]\n",
        "\n",
        "\n",
        "print(\"\\n10. Lista contendo apenas os números pares:\", lista_pares)\n"
      ],
      "metadata": {
        "id": "emQgNhmr6lvJ"
      },
      "execution_count": null,
      "outputs": []
    },
    {
      "cell_type": "code",
      "source": [
        "# 1. Crie uma lista com 5 palavras e imprima a palavra com o maior número de letras.\n",
        "\n",
        "lista = ['richardson','anatomia','luminoso','cristiano','lionel messi']\n",
        "max(lista,key=len)"
      ],
      "metadata": {
        "colab": {
          "base_uri": "https://localhost:8080/",
          "height": 35
        },
        "id": "ttQ-Xap-6pow",
        "outputId": "a0c0ba97-be4f-4775-915c-637a9c90024a"
      },
      "execution_count": null,
      "outputs": [
        {
          "output_type": "execute_result",
          "data": {
            "text/plain": [
              "'lionel messi'"
            ],
            "application/vnd.google.colaboratory.intrinsic+json": {
              "type": "string"
            }
          },
          "metadata": {},
          "execution_count": 5
        }
      ]
    },
    {
      "cell_type": "code",
      "source": [
        "# 2. Dada a lista [1, 2, 3, 4, 5], multiplique cada elemento por 3 e imprima a nova lista.\n",
        "lista = [1, 2, 3, 4, 5]\n",
        "novalista = [i*3 for i in lista]\n",
        "print(novalista)\n"
      ],
      "metadata": {
        "colab": {
          "base_uri": "https://localhost:8080/"
        },
        "id": "pa3zb-y69BB4",
        "outputId": "474966aa-1a9c-42c1-9ec3-ba7c09460c08"
      },
      "execution_count": null,
      "outputs": [
        {
          "output_type": "stream",
          "name": "stdout",
          "text": [
            "[3, 6, 9, 12, 15]\n"
          ]
        }
      ]
    },
    {
      "cell_type": "code",
      "source": [
        "# 3. Dada a lista ['azul', 'verde', 'vermelho', 'amarelo'], ordene-a em ordem alfabética inversa.\n",
        "\n",
        "lista = ['azul', 'verde', 'vermelho', 'amarelo']\n",
        "lista.sort()\n",
        "print(lista)"
      ],
      "metadata": {
        "id": "JbrZpM-ABM6P",
        "colab": {
          "base_uri": "https://localhost:8080/"
        },
        "outputId": "f06cd92c-b369-461b-f348-d82e77ed73af"
      },
      "execution_count": null,
      "outputs": [
        {
          "output_type": "stream",
          "name": "stdout",
          "text": [
            "['amarelo', 'azul', 'verde', 'vermelho']\n"
          ]
        }
      ]
    },
    {
      "cell_type": "code",
      "source": [
        "# 3. Dada a lista ['azul', 'verde', 'vermelho', 'amarelo'], ordene-a em ordem alfabética inversa.\n",
        "\n",
        "lista = ['azul', 'verde', 'vermelho', 'amarelo']\n",
        "lista.sort(key=str.lower,reverse=True)\n",
        "print(lista)"
      ],
      "metadata": {
        "colab": {
          "base_uri": "https://localhost:8080/"
        },
        "id": "UAI_DtAklz4w",
        "outputId": "385072b4-2da6-4dc0-9ddc-63cc59687c35"
      },
      "execution_count": null,
      "outputs": [
        {
          "output_type": "stream",
          "name": "stdout",
          "text": [
            "['vermelho', 'verde', 'azul', 'amarelo']\n"
          ]
        }
      ]
    },
    {
      "cell_type": "code",
      "source": [
        "# 4. Crie uma lista com os números de 1 a 20 e filtre apenas os múltiplos de 5.\n",
        "for i in range(1,20):\n",
        "  if i % 5 == 0:\n",
        "    print(i)"
      ],
      "metadata": {
        "colab": {
          "base_uri": "https://localhost:8080/"
        },
        "id": "diut9klgSkC3",
        "outputId": "b427e2d9-2208-458b-8c95-afae36f630b0"
      },
      "execution_count": null,
      "outputs": [
        {
          "output_type": "stream",
          "name": "stdout",
          "text": [
            "5\n",
            "10\n",
            "15\n"
          ]
        }
      ]
    },
    {
      "cell_type": "code",
      "source": [
        "# 5. Crie uma lista com 6 números inteiros e substitua todos os números pares por 0.\n",
        "lista = [1,2,3,4,5,6]\n",
        "for i in range(len(lista)):\n",
        " if lista[i] % 2 == 0:\n",
        "  lista[i] = 0\n",
        "print(lista)"
      ],
      "metadata": {
        "colab": {
          "base_uri": "https://localhost:8080/"
        },
        "id": "rStXzndVTrcd",
        "outputId": "7f9ec657-8577-421e-ae40-2d61cee964c0"
      },
      "execution_count": null,
      "outputs": [
        {
          "output_type": "stream",
          "name": "stdout",
          "text": [
            "[1, 0, 3, 0, 5, 0]\n"
          ]
        }
      ]
    },
    {
      "cell_type": "code",
      "source": [
        "aluno = []\n",
        "qtdAlunos = int(input(\"informe a quantidade de alunos da turma: \"))\n",
        "i = 0\n",
        "while i < qtdAlunos:\n",
        "  nome = input(\"informe o nome do aluno %d: \" %(i + 1))\n",
        "  aluno.append(nome)\n",
        "  i = i + 1\n",
        "  print(\"========== LISTA DE ALUNOS ===========\")\n",
        "i = 0\n",
        "while i < qtdAlunos:\n",
        "  print(\"Aluno %d %s\" %(i+1, aluno[i]))\n",
        "  i = i + 1"
      ],
      "metadata": {
        "colab": {
          "base_uri": "https://localhost:8080/"
        },
        "id": "AWMTTE0Md-dv",
        "outputId": "db094c1e-1502-4150-8fd2-c99d553fe0a9"
      },
      "execution_count": null,
      "outputs": [
        {
          "output_type": "stream",
          "name": "stdout",
          "text": [
            "informe a quantidade de alunos da turma: 1\n",
            "informe o nome do aluno 1: RYAN\n",
            "========== LISTA DE ALUNOS ===========\n",
            "Aluno 1 RYAN\n"
          ]
        }
      ]
    },
    {
      "cell_type": "code",
      "source": [
        "x = [0 for i in range(5)]\n",
        "print(x)\n",
        "x = [2*i for i in range(5)]\n",
        "print(x)"
      ],
      "metadata": {
        "colab": {
          "base_uri": "https://localhost:8080/"
        },
        "id": "CTIWvLsRjj9B",
        "outputId": "09851a27-2fa7-4de7-c3b3-78f852be38f3"
      },
      "execution_count": null,
      "outputs": [
        {
          "output_type": "stream",
          "name": "stdout",
          "text": [
            "[0, 0, 0, 0, 0]\n",
            "[0, 2, 4, 6, 8]\n"
          ]
        }
      ]
    },
    {
      "cell_type": "code",
      "source": [
        "lista = ['maça','banana','maça','laranja','banana','maça']\n",
        "frutas = []\n",
        "for i in lista:\n",
        "  if i not in frutas:\n",
        "    frutas.append(i)\n",
        "for frutas in frutas:\n",
        "  print(f'{frutas} = {lista.count(frutas)}')"
      ],
      "metadata": {
        "id": "R-ahuPUenaCZ",
        "colab": {
          "base_uri": "https://localhost:8080/"
        },
        "outputId": "0ef31c34-4fc9-460c-b949-ac013238b87c"
      },
      "execution_count": null,
      "outputs": [
        {
          "output_type": "stream",
          "name": "stdout",
          "text": [
            "maça = 3\n",
            "banana = 2\n",
            "laranja = 1\n"
          ]
        }
      ]
    },
    {
      "cell_type": "code",
      "source": [
        "# 1. Escreva um código que recebe um número inteiro do usuário e verifica se ele é positivo, negativo ou zero.\n",
        "#    Use comentários para explicar cada parte do código.\n",
        "\n",
        "numero = int(input(\"Digite um numero: \"))       # o usuario ira digitar um numero\n",
        "if numero < 0:                                  #se o numero for menor que 0 ele ira printar como negativo\n",
        "  print(f\"numero negativo\")\n",
        "elif numero > 0:                                #se o numero for maior que 0 ele ira printar como positivo\n",
        "  print(f\"numero positivo\")\n",
        "else:                                           #se o numero for igual a 0 ele ira printar como zero\n",
        "  print(f\"Zero\")"
      ],
      "metadata": {
        "colab": {
          "base_uri": "https://localhost:8080/"
        },
        "id": "dHNNz2NLc5Al",
        "outputId": "dc1572a2-09d5-4ea9-f8a5-3c548add5c48"
      },
      "execution_count": null,
      "outputs": [
        {
          "output_type": "stream",
          "name": "stdout",
          "text": [
            "Digite um numero: 0\n",
            "Zero\n"
          ]
        }
      ]
    },
    {
      "cell_type": "code",
      "source": [
        "# 2. Escreva um programa que receba a idade de uma pessoa e exiba se ela é menor de idade (menos de 18 anos),\n",
        "#    adulto (18 a 65 anos) ou idoso (mais de 65 anos).\n",
        "\n",
        "idade = int(input(\"Digite a sua idade: \"))\n",
        "if idade < 18:\n",
        "  print(f\"Menor de idade\")\n",
        "elif idade > 18 and idade <= 65:\n",
        "  print(f\"Adulto\")\n",
        "else:\n",
        "  print(f\"idoso\")"
      ],
      "metadata": {
        "colab": {
          "base_uri": "https://localhost:8080/"
        },
        "id": "bVi-f4Cheh5U",
        "outputId": "c11262f9-d350-4688-edd6-52134eaf19a2"
      },
      "execution_count": null,
      "outputs": [
        {
          "output_type": "stream",
          "name": "stdout",
          "text": [
            "Digite a sua idade: 66\n",
            "idoso\n"
          ]
        }
      ]
    },
    {
      "cell_type": "code",
      "source": [
        "# 3. Crie um programa que exibe a tabuada de um número escolhido pelo usuário, usando a estrutura `for`.\n",
        "#    Em seguida, reescreva o código para usar `while` em vez de `for`.\n",
        "\n",
        "numero = int(input(\"Digite um numero: \"))\n",
        "for i in range(1,11):\n",
        "    print(f\"{numero} x {i} = {numero*i}\")\n",
        "i = 1\n",
        "while i <= 10:\n",
        "  print(f\"{numero} x {i} = {numero*i}\")\n",
        "  i+=1"
      ],
      "metadata": {
        "colab": {
          "base_uri": "https://localhost:8080/"
        },
        "id": "rRAyrOP4fkZX",
        "outputId": "8fe171da-4864-4220-bd51-15b8300ffd84"
      },
      "execution_count": null,
      "outputs": [
        {
          "output_type": "stream",
          "name": "stdout",
          "text": [
            "Digite um numero: 5\n",
            "5 x 1 = 5\n",
            "5 x 2 = 10\n",
            "5 x 3 = 15\n",
            "5 x 4 = 20\n",
            "5 x 5 = 25\n",
            "5 x 6 = 30\n",
            "5 x 7 = 35\n",
            "5 x 8 = 40\n",
            "5 x 9 = 45\n",
            "5 x 10 = 50\n",
            "5 x 1 = 5\n",
            "5 x 2 = 10\n",
            "5 x 3 = 15\n",
            "5 x 4 = 20\n",
            "5 x 5 = 25\n",
            "5 x 6 = 30\n",
            "5 x 7 = 35\n",
            "5 x 8 = 40\n",
            "5 x 9 = 45\n",
            "5 x 10 = 50\n"
          ]
        }
      ]
    },
    {
      "cell_type": "code",
      "source": [
        "# 4. Escreva um programa que receba um número e informe se ele é negativo, zero ou positivo.\n",
        "#    Reescreva o mesmo programa, mas usando `if` independentes e observe a diferença de comportamento.\n",
        "\n",
        "numero = int(input(\"Digite um numero: \"))\n",
        "if numero < 0:\n",
        "  print(f\"numero negativo\")\n",
        "if numero > 0:\n",
        "  print(f\"numero positivo\")\n",
        "if numero == 0:\n",
        "  print(f\"Zero\")"
      ],
      "metadata": {
        "colab": {
          "base_uri": "https://localhost:8080/"
        },
        "id": "rclb9isWmVoh",
        "outputId": "8b231083-f472-4d02-8b21-1f5b684c4d2e"
      },
      "execution_count": null,
      "outputs": [
        {
          "output_type": "stream",
          "name": "stdout",
          "text": [
            "Digite um numero: 0\n",
            "Zero\n"
          ]
        }
      ]
    },
    {
      "cell_type": "code",
      "source": [
        "# 5. Escreva um programa que receba dois números inteiros e exiba o valor do primeiro número elevado à potência do segundo número.\n",
        "\n",
        "num1 = int(input(\"Digite o primero numero: \"))\n",
        "num2 = int(input(\"Digite o segundo numero: \"))\n",
        "resultado = num1 ** num2\n",
        "print(resultado)"
      ],
      "metadata": {
        "colab": {
          "base_uri": "https://localhost:8080/"
        },
        "id": "b1cpx4GPneDH",
        "outputId": "c2428551-71a5-427a-ceb6-781d00e4b7da"
      },
      "execution_count": null,
      "outputs": [
        {
          "output_type": "stream",
          "name": "stdout",
          "text": [
            "Digite o primero numero: 3\n",
            "Digite o segundo numero: 2\n",
            "9\n"
          ]
        }
      ]
    },
    {
      "cell_type": "code",
      "source": [
        "# 6. Escreva um programa que receba dois números do usuário e verifique se o primeiro é divisível pelo segundo,\n",
        "#    utilizando o operador `%`.\n",
        "\n",
        "num1 = int(input(\"Digite o primero numero: \"))\n",
        "num2 = int(input(\"Digite o segundo numero: \"))\n",
        "resultado = num1 % num2\n",
        "print(resultado)\n",
        "if resultado == 0:\n",
        "  print(\"Divisivel\")\n",
        "else:\n",
        "  print(f\"Nao divisivel\")"
      ],
      "metadata": {
        "colab": {
          "base_uri": "https://localhost:8080/"
        },
        "id": "T6MQBTJpojKE",
        "outputId": "a0fe7c79-7dcc-4738-e0b5-b86167d8b2c9"
      },
      "execution_count": null,
      "outputs": [
        {
          "output_type": "stream",
          "name": "stdout",
          "text": [
            "Digite o primero numero: 6\n",
            "Digite o segundo numero: 5\n",
            "1\n",
            "Nao divisivel\n"
          ]
        }
      ]
    },
    {
      "cell_type": "code",
      "source": [
        "# 7. Crie um programa que receba dois números inteiros do usuário e calcule a divisão inteira do primeiro pelo segundo.\n",
        "#    Exiba o resultado na tela.\n",
        "\n",
        "x = int(input(\"Digite o primero numero: \"))\n",
        "y = int(input(\"Digite o segundo numero: \"))\n",
        "print(f\"{x} // {y} = {x//y}\")"
      ],
      "metadata": {
        "colab": {
          "base_uri": "https://localhost:8080/"
        },
        "id": "4Ejb4QGlpVIa",
        "outputId": "eb215e6f-e819-46fd-e591-b6f9799ba391"
      },
      "execution_count": null,
      "outputs": [
        {
          "output_type": "stream",
          "name": "stdout",
          "text": [
            "Digite o primero numero: 6\n",
            "Digite o segundo numero: 3\n",
            "6 // 3 = 2\n"
          ]
        }
      ]
    },
    {
      "cell_type": "code",
      "source": [
        "# 8. Crie um programa que receba dois números e troque os valores dessas variáveis, exibindo os novos valores na tela.\n",
        "\n",
        "c = int(input(\"Digite o primero numero: \"))\n",
        "d = int(input(\"Digite o primero numero: \"))\n",
        "temp = c\n",
        "c = d\n",
        "d = temp\n",
        "print(f\"new c: {c}, new d: {d}\")"
      ],
      "metadata": {
        "colab": {
          "base_uri": "https://localhost:8080/"
        },
        "id": "Gw9_5NJurZAX",
        "outputId": "eb318ea0-dc13-419f-8929-3410c0202dae"
      },
      "execution_count": null,
      "outputs": [
        {
          "output_type": "stream",
          "name": "stdout",
          "text": [
            "Digite o primero numero: 6\n",
            "Digite o primero numero: 1\n",
            "new c: 1, new d: 6\n"
          ]
        }
      ]
    },
    {
      "cell_type": "code",
      "source": [
        "# 9. Escreva um programa que receba um número do usuário e verifique se ele é maior que 10.\n",
        "#    Se for, exiba a mensagem \"O número {número} é maior que 10\", caso contrário, exiba \"O número {número} não é maior que 10\".\n",
        "\n",
        "numero = int(input(\"Digite um numero: \"))\n",
        "if numero > 10:\n",
        "  print(f\"O numero {numero} é maior que 10\")\n",
        "else:\n",
        "  print(f\"O numero {numero} não é maior que 10\")"
      ],
      "metadata": {
        "colab": {
          "base_uri": "https://localhost:8080/"
        },
        "id": "2TxkEv1zr7B3",
        "outputId": "07f40f2a-b2d3-404e-bc18-00e8c8982445"
      },
      "execution_count": null,
      "outputs": [
        {
          "output_type": "stream",
          "name": "stdout",
          "text": [
            "Digite um numero: 11\n",
            "O numero 11 é maior que 10\n"
          ]
        }
      ]
    },
    {
      "cell_type": "code",
      "source": [
        "# 10. Crie uma função que receba uma lista de palavras (strings) e retorne a lista ordenada pelo comprimento das palavras,\n",
        "#     da menor para a maior.\n",
        "lista = ['improvavel', 'paysanduu', 'Flamengo', 'alemanhaaa', 'Pirâmide']\n",
        "lista.sort(key=len)\n",
        "print(lista)"
      ],
      "metadata": {
        "colab": {
          "base_uri": "https://localhost:8080/"
        },
        "id": "Vf5U7rc-scal",
        "outputId": "034ef0fb-2a5a-474b-b4b5-87339d5b767f"
      },
      "execution_count": null,
      "outputs": [
        {
          "output_type": "stream",
          "name": "stdout",
          "text": [
            "['Flamengo', 'Pirâmide', 'paysanduu', 'improvavel', 'alemanhaaa']\n"
          ]
        }
      ]
    },
    {
      "cell_type": "code",
      "source": [
        "# Crie um programa que receba uma lista de números inseridos pelo usuário e retorne uma nova lista contendo apenas os números pares, usando list comprehension.\n",
        "\n",
        "lista = [1,2,3,4,5,6]\n",
        "pares = [n for n in lista if n%2 == 0]\n",
        "print(pares)"
      ],
      "metadata": {
        "colab": {
          "base_uri": "https://localhost:8080/"
        },
        "id": "uLGznvCJ57Cr",
        "outputId": "f3d2ae40-0724-41bc-8cba-a78d0415617b"
      },
      "execution_count": null,
      "outputs": [
        {
          "output_type": "stream",
          "name": "stdout",
          "text": [
            "[2, 4, 6]\n"
          ]
        }
      ]
    },
    {
      "cell_type": "code",
      "source": [
        "#2 Desenvolva uma função que receba uma lista de números inteiros e retorne uma nova lista com o quadrado de cada número, utilizando list comprehension.\n",
        "num = [1,2,3,4,5,6]\n",
        "quadrado = [i**2 for i in num]\n",
        "print(quadrado)"
      ],
      "metadata": {
        "colab": {
          "base_uri": "https://localhost:8080/"
        },
        "id": "qgQldzJP_pCh",
        "outputId": "750b7e08-d401-4c60-daba-d9d65e8b0b20"
      },
      "execution_count": null,
      "outputs": [
        {
          "output_type": "stream",
          "name": "stdout",
          "text": [
            "[1, 4, 9, 16, 25, 36]\n"
          ]
        }
      ]
    },
    {
      "cell_type": "code",
      "source": [
        "#3 Escreva um programa que receba uma lista de números e retorne apenas os números maiores que a média dos elementos da lista, usando list comprehension.\n",
        "num = [1,2,3,4,5,6]\n",
        "media = sum(num) / len(num)\n",
        "novalista = [i for i in num if i > media]\n",
        "print(novalista)"
      ],
      "metadata": {
        "colab": {
          "base_uri": "https://localhost:8080/"
        },
        "id": "4adF3_7GGLPY",
        "outputId": "c522d6c1-35cb-4a96-9cb7-b59eeb508b50"
      },
      "execution_count": null,
      "outputs": [
        {
          "output_type": "stream",
          "name": "stdout",
          "text": [
            "[4, 5, 6]\n"
          ]
        }
      ]
    },
    {
      "cell_type": "code",
      "source": [
        "#4 Crie um algoritmo que receba uma lista de strings e retorne uma nova lista contendo apenas as strings que começam com a letra 'a', usando list comprehension.\n",
        "palavras = ('abacate', 'abacaxi', 'morango', 'ameixa')\n",
        "a = [p for p in palavra if p.startswith('a')]\n",
        "print(a)"
      ],
      "metadata": {
        "colab": {
          "base_uri": "https://localhost:8080/",
          "height": 193
        },
        "id": "-ywW8uxeG6RQ",
        "outputId": "ada582ca-bf25-48de-936c-c6be8e52a1ca"
      },
      "execution_count": null,
      "outputs": [
        {
          "output_type": "error",
          "ename": "NameError",
          "evalue": "name 'palavra' is not defined",
          "traceback": [
            "\u001b[0;31m---------------------------------------------------------------------------\u001b[0m",
            "\u001b[0;31mNameError\u001b[0m                                 Traceback (most recent call last)",
            "\u001b[0;32m<ipython-input-1-140b5b804113>\u001b[0m in \u001b[0;36m<cell line: 4>\u001b[0;34m()\u001b[0m\n\u001b[1;32m      2\u001b[0m \u001b[0;34m\u001b[0m\u001b[0m\n\u001b[1;32m      3\u001b[0m \u001b[0mpalavras\u001b[0m \u001b[0;34m=\u001b[0m \u001b[0;34m(\u001b[0m\u001b[0;34m'abacate'\u001b[0m\u001b[0;34m,\u001b[0m \u001b[0;34m'abacaxi'\u001b[0m\u001b[0;34m,\u001b[0m \u001b[0;34m'morango'\u001b[0m\u001b[0;34m,\u001b[0m \u001b[0;34m'ameixa'\u001b[0m\u001b[0;34m)\u001b[0m\u001b[0;34m\u001b[0m\u001b[0;34m\u001b[0m\u001b[0m\n\u001b[0;32m----> 4\u001b[0;31m \u001b[0ma\u001b[0m \u001b[0;34m=\u001b[0m \u001b[0;34m[\u001b[0m\u001b[0mp\u001b[0m \u001b[0;32mfor\u001b[0m \u001b[0mp\u001b[0m \u001b[0;32min\u001b[0m \u001b[0mpalavra\u001b[0m \u001b[0;32mif\u001b[0m \u001b[0mp\u001b[0m\u001b[0;34m.\u001b[0m\u001b[0mstartswith\u001b[0m\u001b[0;34m(\u001b[0m\u001b[0;34m'a'\u001b[0m\u001b[0;34m)\u001b[0m\u001b[0;34m]\u001b[0m\u001b[0;34m\u001b[0m\u001b[0;34m\u001b[0m\u001b[0m\n\u001b[0m\u001b[1;32m      5\u001b[0m \u001b[0mprint\u001b[0m\u001b[0;34m(\u001b[0m\u001b[0ma\u001b[0m\u001b[0;34m)\u001b[0m\u001b[0;34m\u001b[0m\u001b[0;34m\u001b[0m\u001b[0m\n",
            "\u001b[0;31mNameError\u001b[0m: name 'palavra' is not defined"
          ]
        }
      ]
    },
    {
      "cell_type": "code",
      "source": [
        "lista_precos = [50,300,1000]\n",
        "novalista = [preco * 2 for preco in lista_precos]\n",
        "print(novalista)"
      ],
      "metadata": {
        "colab": {
          "base_uri": "https://localhost:8080/"
        },
        "id": "6v0_JmdCLeAW",
        "outputId": "123b8279-2c24-43a2-b49f-f5474f183327"
      },
      "execution_count": null,
      "outputs": [
        {
          "output_type": "stream",
          "name": "stdout",
          "text": [
            "[100, 600, 2000]\n"
          ]
        }
      ]
    },
    {
      "cell_type": "code",
      "source": [
        "# Crie um programa que receba uma lista de números inseridos pelo usuário e retorne uma nova lista contendo apenas os números pares, usando list comprehension.\n",
        "\n",
        "lista = [1,2,3,4,5,6,7,8,9,10]\n",
        "novalista = [n for n in lista if n % 2 == 0]\n",
        "print(novalista)"
      ],
      "metadata": {
        "colab": {
          "base_uri": "https://localhost:8080/"
        },
        "id": "EfPEqA-qOC_g",
        "outputId": "08991668-5ef5-4d83-ca45-137378cd8f74"
      },
      "execution_count": null,
      "outputs": [
        {
          "output_type": "stream",
          "name": "stdout",
          "text": [
            "[2, 4, 6, 8, 10]\n"
          ]
        }
      ]
    },
    {
      "cell_type": "code",
      "source": [
        "##2 - Desenvolva uma função que receba uma lista de números inteiros e retorne uma nova lista com o quadrado de cada número, utilizando list comprehension.\n",
        "\n",
        "lista = [1,2,3,4,5,6,7,8,9,10]\n",
        "novalista = [n**2 for n in lista]\n",
        "print(novalista)"
      ],
      "metadata": {
        "colab": {
          "base_uri": "https://localhost:8080/"
        },
        "id": "EXbPrTCyPeEK",
        "outputId": "19701d7a-dbc9-47e4-f746-d38a93c44c2f"
      },
      "execution_count": null,
      "outputs": [
        {
          "output_type": "stream",
          "name": "stdout",
          "text": [
            "[1, 4, 9, 16, 25, 36, 49, 64, 81, 100]\n"
          ]
        }
      ]
    },
    {
      "cell_type": "code",
      "source": [
        "##3 - Escreva um programa que receba uma lista de números e retorne apenas os números maiores que a média dos elementos da lista, usando list comprehension.\n",
        "lista = [1,2,3,4,5,6,7,8,9,10]\n",
        "media = sum(lista) % len(lista)\n",
        "novalista = [i for i in lista if i > media]\n",
        "print(novalista)"
      ],
      "metadata": {
        "colab": {
          "base_uri": "https://localhost:8080/"
        },
        "id": "0svWqvpfQww5",
        "outputId": "d0a052c5-2dd5-407a-8d7c-a1f9b940f088"
      },
      "execution_count": null,
      "outputs": [
        {
          "output_type": "stream",
          "name": "stdout",
          "text": [
            "[6, 7, 8, 9, 10]\n"
          ]
        }
      ]
    },
    {
      "cell_type": "code",
      "source": [
        "#4 - Crie um algoritmo que receba uma lista de strings e retorne uma nova lista contendo apenas as strings que começam com a letra 'a', usando list comprehension\n",
        "\n",
        "lista = ['abacaxi','abacate','melancia','perereca','melao']\n",
        "novalista = [p for p in lista if p.startswith('a')]\n",
        "print(novalista)"
      ],
      "metadata": {
        "colab": {
          "base_uri": "https://localhost:8080/"
        },
        "id": "h0B6G386Sotx",
        "outputId": "17700ec7-8ccf-4c81-9e20-9026ec0b45ce"
      },
      "execution_count": null,
      "outputs": [
        {
          "output_type": "stream",
          "name": "stdout",
          "text": [
            "['abacaxi', 'abacate']\n"
          ]
        }
      ]
    },
    {
      "cell_type": "code",
      "source": [
        "#5 - Desenvolva uma função que receba uma lista de palavras e retorne uma lista com as palavras em maiúsculas, utilizando list comprehension.\n",
        "\n",
        "lista = ['letras','em','maiusculas']\n",
        "novalista = [p.upper() for p in lista]\n",
        "print(novalista)"
      ],
      "metadata": {
        "colab": {
          "base_uri": "https://localhost:8080/"
        },
        "id": "oWu6J7_RT4Mg",
        "outputId": "eb63d014-7bb9-460f-8b25-9995c264be7a"
      },
      "execution_count": null,
      "outputs": [
        {
          "output_type": "stream",
          "name": "stdout",
          "text": [
            "['LETRAS', 'EM', 'MAIUSCULAS']\n"
          ]
        }
      ]
    },
    {
      "cell_type": "code",
      "source": [
        "#6 - Crie um programa que receba uma lista de números e retorne o valor máximo e mínimo, usando as funções max() e min().\n",
        "\n",
        "lista = [58,31,36,120,121,49]\n",
        "print(f\"max: {max(lista)} and min: {min(lista)}\")"
      ],
      "metadata": {
        "colab": {
          "base_uri": "https://localhost:8080/"
        },
        "id": "jFe1PvPEVtxO",
        "outputId": "97728a12-a055-4bfb-fe24-2e253d0be918"
      },
      "execution_count": null,
      "outputs": [
        {
          "output_type": "stream",
          "name": "stdout",
          "text": [
            "max: 121 and min: 31\n"
          ]
        }
      ]
    },
    {
      "cell_type": "code",
      "source": [
        "#7 - Desenvolva uma função que receba uma lista de números inteiros e retorne uma nova lista com os números da lista original divididos por 2, usando list comprehension\n",
        "\n",
        "lista = [1,2,3,4]\n",
        "novalista = [n/2 for n in lista]\n",
        "print(novalista)"
      ],
      "metadata": {
        "colab": {
          "base_uri": "https://localhost:8080/"
        },
        "id": "D9Ch-oPpW4vj",
        "outputId": "51fe7fb1-9076-4889-8f74-b69a0b6adafd"
      },
      "execution_count": null,
      "outputs": [
        {
          "output_type": "stream",
          "name": "stdout",
          "text": [
            "[0.5, 1.0, 1.5, 2.0]\n"
          ]
        }
      ]
    },
    {
      "cell_type": "code",
      "source": [
        "#8 - Crie um programa que receba uma lista de números e retorne a soma dos números que são múltiplos de 3, usando list comprehension e a função sum().\n",
        "\n",
        "lista = [1,2,3,4,5,6,7,8,9,10]\n",
        "soma = [i for i in lista if i%3 ==0]\n",
        "print(soma)"
      ],
      "metadata": {
        "colab": {
          "base_uri": "https://localhost:8080/"
        },
        "id": "V6Y68XNHXmjb",
        "outputId": "29b9c946-e434-4b09-c5e3-d5d931a5406f"
      },
      "execution_count": null,
      "outputs": [
        {
          "output_type": "stream",
          "name": "stdout",
          "text": [
            "[3, 6, 9]\n"
          ]
        }
      ]
    },
    {
      "cell_type": "code",
      "source": [
        "#9 - Escreva um algoritmo que receba uma lista de palavras e retorne a quantidade de palavras que têm mais de 5 caracteres, utilizando list comprehension e a função len()\n",
        "\n",
        "lista = ['abacaxi','abacate','melancia','perereca','melao']\n",
        "novalista = len([n for n in lista if len(n)>5])\n",
        "print(novalista)"
      ],
      "metadata": {
        "colab": {
          "base_uri": "https://localhost:8080/"
        },
        "id": "iEi3UDUIYmHo",
        "outputId": "2b7946a7-b015-4569-9980-77df62d1ba50"
      },
      "execution_count": null,
      "outputs": [
        {
          "output_type": "stream",
          "name": "stdout",
          "text": [
            "4\n"
          ]
        }
      ]
    },
    {
      "cell_type": "code",
      "source": [
        "#10 - Crie um programa que receba uma lista de números e use list comprehension para retornar uma nova lista com apenas os números que estão em posições ímpares.\n",
        "\n",
        "lista = [1,2,3,4,5,6,7,8,9,10]\n",
        "novalista = [lista[i] for i in range(len(lista)) ]\n",
        "print(novalista)"
      ],
      "metadata": {
        "colab": {
          "base_uri": "https://localhost:8080/"
        },
        "id": "Y05BuWJSZU4Z",
        "outputId": "1d852d46-73dc-45a1-8222-169219010e56"
      },
      "execution_count": null,
      "outputs": [
        {
          "output_type": "stream",
          "name": "stdout",
          "text": [
            "[1, 2, 3, 4, 5, 6, 7, 8, 9, 10]\n"
          ]
        }
      ]
    },
    {
      "cell_type": "code",
      "source": [
        "lista = ['maçã', 'banana','limão']\n",
        "tupla = ('maçã','banana','limão')\n",
        "dicionario = {'nome': 'Ryan', 'DataNas' : '04/12/2002'}\n",
        "print(dicionario)"
      ],
      "metadata": {
        "colab": {
          "base_uri": "https://localhost:8080/"
        },
        "id": "gjaflr2Q9Yyy",
        "outputId": "31ddbdf6-7fac-4d8a-c5c5-9d0f1a5e5afd"
      },
      "execution_count": null,
      "outputs": [
        {
          "output_type": "stream",
          "name": "stdout",
          "text": [
            "{'nome': 'Ryan', 'DataNas': '04/12/2002'}\n"
          ]
        }
      ]
    },
    {
      "cell_type": "code",
      "source": [
        "#1 Crie uma tupla chamada cidades que contenha os nomes de cinco cidades. Imprima a terceira cidade.\n",
        "\n",
        "cidades = ('Vila Velha', 'Vitoria','Viana','Domingos Martins','Curitiba')\n",
        "print(cidades[2])"
      ],
      "metadata": {
        "colab": {
          "base_uri": "https://localhost:8080/"
        },
        "id": "TJSPwI2aAm-S",
        "outputId": "adcfc5e3-12a0-4ad7-c933-f0a19de7194f"
      },
      "execution_count": null,
      "outputs": [
        {
          "output_type": "stream",
          "name": "stdout",
          "text": [
            "Viana\n"
          ]
        }
      ]
    },
    {
      "cell_type": "code",
      "source": [
        "#2 Crie uma tupla chamada numeros com os seguintes valores: (1, 2, 3, 1, 4, 1). Utilize o método count() para contar quantas vezes o número 1 aparece na tupla.\n",
        "\n",
        "numeros = (1, 2, 3, 1, 4, 1)\n",
        "numeros.count(1)"
      ],
      "metadata": {
        "colab": {
          "base_uri": "https://localhost:8080/"
        },
        "id": "L6iZ_w1mCm1s",
        "outputId": "74e0bac5-875d-46b9-baba-44e35d4067b3"
      },
      "execution_count": null,
      "outputs": [
        {
          "output_type": "execute_result",
          "data": {
            "text/plain": [
              "3"
            ]
          },
          "metadata": {},
          "execution_count": 7
        }
      ]
    },
    {
      "cell_type": "code",
      "source": [
        "#3 Crie uma tupla chamada animais com os seguintes valores: ('cachorro', 'gato', 'pássaro'). Verifique se 'gato' está na tupla e imprima uma mensagem informando o resultado.\n",
        "\n",
        "animais = ('cachorro', 'gato', 'pássaro')\n",
        "if 'gato' in animais:\n",
        "  print(f'o gato esta na lista')\n",
        "else:\n",
        "  print(f'nao ha este animal na lista')"
      ],
      "metadata": {
        "colab": {
          "base_uri": "https://localhost:8080/"
        },
        "id": "B33qJXLnDNQ0",
        "outputId": "86a0827f-5d72-4057-d26e-bc2b8870beba"
      },
      "execution_count": null,
      "outputs": [
        {
          "output_type": "stream",
          "name": "stdout",
          "text": [
            "o gato esta na lista\n"
          ]
        }
      ]
    },
    {
      "cell_type": "code",
      "source": [
        "#4 Dada a tupla meses = ('janeiro', 'fevereiro', 'março', 'abril', 'maio'), encontre e imprima o índice do mês 'abril'.\n",
        "\n",
        "mes = ('janeiro', 'fevereiro', 'março', 'abril', 'maio')\n",
        "print(mes.index('abril'))"
      ],
      "metadata": {
        "colab": {
          "base_uri": "https://localhost:8080/"
        },
        "id": "65ALQ3ePFdvb",
        "outputId": "656c9cb1-3b57-4e52-f6a7-ed90072d0e92"
      },
      "execution_count": null,
      "outputs": [
        {
          "output_type": "stream",
          "name": "stdout",
          "text": [
            "3\n"
          ]
        }
      ]
    },
    {
      "cell_type": "code",
      "source": [
        "#5 Crie uma tupla chamada coordenadas que armazene a latitude e longitude de um local (ex: (-23.5505, -46.6333)). Imprima a latitude e a longitude separadamente.\n",
        "\n",
        "coordenadas = (-23.5505, -46.6333)\n",
        "print(coordenadas[0])\n",
        "print(coordenadas[1])"
      ],
      "metadata": {
        "colab": {
          "base_uri": "https://localhost:8080/"
        },
        "id": "B5PprPbZFz4u",
        "outputId": "a5a337f4-f7e5-4790-ec3f-9a75b3450d66"
      },
      "execution_count": null,
      "outputs": [
        {
          "output_type": "stream",
          "name": "stdout",
          "text": [
            "-23.5505\n",
            "-46.6333\n"
          ]
        }
      ]
    },
    {
      "cell_type": "code",
      "source": [
        "conjunto = {1,2,3,4,5}\n",
        "print(conjunto)"
      ],
      "metadata": {
        "colab": {
          "base_uri": "https://localhost:8080/"
        },
        "id": "53HcZt2Tl2Pr",
        "outputId": "e3932826-e949-44fe-a2cf-0a931caa52db"
      },
      "execution_count": 1,
      "outputs": [
        {
          "output_type": "stream",
          "name": "stdout",
          "text": [
            "{1, 2, 3, 4, 5}\n"
          ]
        }
      ]
    },
    {
      "cell_type": "code",
      "source": [
        "conjunto = {1,2,3,3,4,6,8,7,7,8}\n",
        "print(conjunto)"
      ],
      "metadata": {
        "colab": {
          "base_uri": "https://localhost:8080/"
        },
        "id": "2i0GC2-wmX80",
        "outputId": "7e3c80e8-0eb1-4b43-f35e-e4bb066e278e"
      },
      "execution_count": 14,
      "outputs": [
        {
          "output_type": "stream",
          "name": "stdout",
          "text": [
            "{1, 2, 3, 4, 6, 7, 8}\n"
          ]
        }
      ]
    },
    {
      "cell_type": "code",
      "source": [
        "#1 - Crie um conjunto chamado `frutas` que contenha os seguintes elementos: \"maçã\", \"banana\", \"laranja\" e \"uva\". Depois de criar o conjunto, exiba-o no console para confirmar os elementos adicionados."
      ],
      "metadata": {
        "id": "U84HBwrGq1La"
      },
      "execution_count": null,
      "outputs": []
    }
  ]
}