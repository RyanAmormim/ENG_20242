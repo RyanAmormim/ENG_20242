{
  "nbformat": 4,
  "nbformat_minor": 0,
  "metadata": {
    "colab": {
      "provenance": [],
      "authorship_tag": "ABX9TyMZ2TsntgP5aN58ma2tkmFi",
      "include_colab_link": true
    },
    "kernelspec": {
      "name": "python3",
      "display_name": "Python 3"
    },
    "language_info": {
      "name": "python"
    }
  },
  "cells": [
    {
      "cell_type": "markdown",
      "metadata": {
        "id": "view-in-github",
        "colab_type": "text"
      },
      "source": [
        "<a href=\"https://colab.research.google.com/github/RyanAmormim/ENG_20242/blob/main/lista_3_feita.ipynb\" target=\"_parent\"><img src=\"https://colab.research.google.com/assets/colab-badge.svg\" alt=\"Open In Colab\"/></a>"
      ]
    },
    {
      "cell_type": "code",
      "execution_count": null,
      "metadata": {
        "colab": {
          "base_uri": "https://localhost:8080/"
        },
        "id": "NWmiqvBfvAI0",
        "outputId": "e9a44043-700e-4fa9-e37a-79fca64592dd"
      },
      "outputs": [
        {
          "output_type": "stream",
          "name": "stdout",
          "text": [
            "[1, 4, 9, 16, 25]\n"
          ]
        }
      ],
      "source": [
        "#1\n",
        "numeros = [1,2,3,4,5]\n",
        "quadrados = list(map(lambda x: x**2, numeros))\n",
        "print(quadrados)"
      ]
    },
    {
      "cell_type": "code",
      "source": [
        "#2\n",
        "temperaturas_celsius = [0, 20, 30, 40, 100]\n",
        "temperaturas_fahrenheit = list(map(lambda c: (c * 9/5) + 32, temperaturas_celsius))\n",
        "print(temperaturas_fahrenheit)"
      ],
      "metadata": {
        "id": "8dHYML61vko7",
        "colab": {
          "base_uri": "https://localhost:8080/"
        },
        "outputId": "93ad291a-7b43-4078-be8c-0e9cce6b8cd6"
      },
      "execution_count": null,
      "outputs": [
        {
          "output_type": "stream",
          "name": "stdout",
          "text": [
            "[32.0, 68.0, 86.0, 104.0, 212.0]\n"
          ]
        }
      ]
    },
    {
      "cell_type": "code",
      "source": [
        "#3\n",
        "palavras = [\"python\", \"programacao\", \"lambda\", \"exercicio\", \"lista\"]\n",
        "comprimentos = list(map(lambda palavra: len(palavra), palavras))\n",
        "print(comprimentos)"
      ],
      "metadata": {
        "colab": {
          "base_uri": "https://localhost:8080/"
        },
        "id": "UY5YHh5rxfp0",
        "outputId": "a730ea80-78a3-40d6-b702-280d82518d9d"
      },
      "execution_count": null,
      "outputs": [
        {
          "output_type": "stream",
          "name": "stdout",
          "text": [
            "[6, 11, 6, 9, 5]\n"
          ]
        }
      ]
    },
    {
      "cell_type": "code",
      "source": [
        "#4\n",
        "numeros = [1, 2, 3, 4, 5]\n",
        "dobrados = list(map(lambda x: x * 2, numeros))\n",
        "print(dobrados)"
      ],
      "metadata": {
        "colab": {
          "base_uri": "https://localhost:8080/"
        },
        "id": "eUEkcR4Hx3Fp",
        "outputId": "31b3b6e9-90b4-439a-9e93-4a637d4924e3"
      },
      "execution_count": null,
      "outputs": [
        {
          "output_type": "stream",
          "name": "stdout",
          "text": [
            "[2, 4, 6, 8, 10]\n"
          ]
        }
      ]
    },
    {
      "cell_type": "code",
      "source": [
        "#5\n",
        "nomes = [\"João\", \"Maria\", \"Carlos\", \"Ana\"]\n",
        "nomes_com_prefixo = list(map(lambda nome: \"Sr. \" + nome if nome != \"Maria\" else \"Sra. \" + nome, nomes))\n",
        "print(nomes_com_prefixo)"
      ],
      "metadata": {
        "colab": {
          "base_uri": "https://localhost:8080/"
        },
        "id": "2V9uhOeyycx6",
        "outputId": "005edc03-5181-4af0-9a5e-1d4ef3fc5e46"
      },
      "execution_count": null,
      "outputs": [
        {
          "output_type": "stream",
          "name": "stdout",
          "text": [
            "['Sr. João', 'Sra. Maria', 'Sr. Carlos', 'Sr. Ana']\n"
          ]
        }
      ]
    },
    {
      "cell_type": "code",
      "source": [
        "#6\n",
        "numeros = [1, 2, 3, 4, 5, 6, 7, 8, 9, 10]\n",
        "numeros_pares = list(filter(lambda x: x % 2 == 0, numeros))\n",
        "print(numeros_pares)"
      ],
      "metadata": {
        "colab": {
          "base_uri": "https://localhost:8080/"
        },
        "id": "ae1LRMkyy4I5",
        "outputId": "16f237b1-b988-4344-f4d7-f8ee35c522f4"
      },
      "execution_count": null,
      "outputs": [
        {
          "output_type": "stream",
          "name": "stdout",
          "text": [
            "[2, 4, 6, 8, 10]\n"
          ]
        }
      ]
    },
    {
      "cell_type": "code",
      "source": [
        "#7\n",
        "palavras = [\"python\", \"sol\", \"lua\", \"desenvolvimento\", \"code\", \"java\"]\n",
        "palavras_curta = list(filter(lambda palavra: len(palavra) < 5, palavras))\n",
        "print(palavras_curta)"
      ],
      "metadata": {
        "colab": {
          "base_uri": "https://localhost:8080/"
        },
        "id": "pqg7MdRezZNN",
        "outputId": "869bfc39-aedb-40c7-8a6d-348c78be4bb0"
      },
      "execution_count": null,
      "outputs": [
        {
          "output_type": "stream",
          "name": "stdout",
          "text": [
            "['sol', 'lua', 'code', 'java']\n"
          ]
        }
      ]
    },
    {
      "cell_type": "code",
      "source": [
        "#8\n",
        "idades = [12, 17, 20, 18, 25, 15, 30, 16]\n",
        "idades_maiores_que_18 = list(filter(lambda idade: idade > 18, idades))\n",
        "print(idades_maiores_que_18)"
      ],
      "metadata": {
        "colab": {
          "base_uri": "https://localhost:8080/"
        },
        "id": "-n-tbjt-0MGc",
        "outputId": "f23f987f-cc8e-4a21-c2cc-35026ab2e12d"
      },
      "execution_count": null,
      "outputs": [
        {
          "output_type": "stream",
          "name": "stdout",
          "text": [
            "[20, 25, 30]\n"
          ]
        }
      ]
    },
    {
      "cell_type": "code",
      "source": [
        "#9\n",
        "strings = [\"apple\", \"banana\", \"avocado\", \"cherry\", \"apricot\", \"orange\"]\n",
        "strings_com_a = list(filter(lambda s: s.lower().startswith('a'), strings))\n",
        "print(strings_com_a)"
      ],
      "metadata": {
        "colab": {
          "base_uri": "https://localhost:8080/"
        },
        "id": "fbheWvdR1CKE",
        "outputId": "bec1af98-a91a-43be-8754-5b70afa522d5"
      },
      "execution_count": null,
      "outputs": [
        {
          "output_type": "stream",
          "name": "stdout",
          "text": [
            "['apple', 'avocado', 'apricot']\n"
          ]
        }
      ]
    },
    {
      "cell_type": "code",
      "source": [
        "#10\n",
        "numeros = [-5, 3, -2, 0, 8, -1, 4]\n",
        "numeros_positivos = list(filter(lambda x: x > 0, numeros))\n",
        "print(numeros_positivos)"
      ],
      "metadata": {
        "colab": {
          "base_uri": "https://localhost:8080/"
        },
        "id": "njKMztIM1iNs",
        "outputId": "46b2c92d-8e9f-46b6-9a2c-073408f54390"
      },
      "execution_count": null,
      "outputs": [
        {
          "output_type": "stream",
          "name": "stdout",
          "text": [
            "[3, 8, 4]\n"
          ]
        }
      ]
    },
    {
      "cell_type": "code",
      "source": [
        "#11\n",
        "from functools import reduce\n",
        "numeros = [1, 2, 3, 4, 5]\n",
        "soma = reduce(lambda x, y: x + y, numeros)\n",
        "print(soma)\n"
      ],
      "metadata": {
        "colab": {
          "base_uri": "https://localhost:8080/"
        },
        "id": "GbgPMxJQ2DUw",
        "outputId": "3e5b7e13-4c2c-467e-a2aa-bc86a41e45b1"
      },
      "execution_count": null,
      "outputs": [
        {
          "output_type": "stream",
          "name": "stdout",
          "text": [
            "15\n"
          ]
        }
      ]
    },
    {
      "cell_type": "code",
      "source": [
        "#12\n",
        "from functools import reduce\n",
        "numeros = [1, 2, 3, 4, 5]\n",
        "produto = reduce(lambda x, y: x * y, numeros)\n",
        "print(produto)"
      ],
      "metadata": {
        "colab": {
          "base_uri": "https://localhost:8080/"
        },
        "id": "_9wrmUhi2Z-o",
        "outputId": "ddb6fd1b-e79b-4f27-d17f-80335a2892b5"
      },
      "execution_count": null,
      "outputs": [
        {
          "output_type": "stream",
          "name": "stdout",
          "text": [
            "120\n"
          ]
        }
      ]
    },
    {
      "cell_type": "code",
      "source": [
        "#13\n",
        "from functools import reduce\n",
        "numeros = [1, 2, 3, 4, 5, 10, 8]\n",
        "maior_numero = reduce(lambda x, y: x if x > y else y, numeros)\n",
        "print(maior_numero)"
      ],
      "metadata": {
        "colab": {
          "base_uri": "https://localhost:8080/"
        },
        "id": "HTVOeDU12u6P",
        "outputId": "cded189a-1f28-45b8-8182-3bfd87f203ba"
      },
      "execution_count": null,
      "outputs": [
        {
          "output_type": "stream",
          "name": "stdout",
          "text": [
            "10\n"
          ]
        }
      ]
    },
    {
      "cell_type": "code",
      "source": [
        "#14\n",
        "from functools import reduce\n",
        "\n",
        "palavras = [\"olá\", \"mundo\", \"como\", \"vai\"]\n",
        "resultado = reduce(lambda x, y: x + \" \" + y, palavras)\n",
        "print(resultado)"
      ],
      "metadata": {
        "colab": {
          "base_uri": "https://localhost:8080/"
        },
        "id": "tJBfvZYL3_87",
        "outputId": "af8d2a92-724f-4176-add2-141cf6d25d1c"
      },
      "execution_count": 17,
      "outputs": [
        {
          "output_type": "stream",
          "name": "stdout",
          "text": [
            "olá mundo como vai\n"
          ]
        }
      ]
    },
    {
      "cell_type": "code",
      "source": [
        "#15\n",
        "numeros = [123, 456, 789]\n",
        "resultado = list(map(lambda x: sum(int(digito) for digito in str(x)), numeros))\n",
        "print(resultado)"
      ],
      "metadata": {
        "colab": {
          "base_uri": "https://localhost:8080/"
        },
        "id": "TruZU3Al4AXT",
        "outputId": "baea74ba-7e85-4302-a016-7d9b4df26851"
      },
      "execution_count": 18,
      "outputs": [
        {
          "output_type": "stream",
          "name": "stdout",
          "text": [
            "[6, 15, 24]\n"
          ]
        }
      ]
    },
    {
      "cell_type": "code",
      "source": [
        "#16\n",
        "numeros = [5, 8, 10, 12, 15, 20]\n",
        "resultado = list(filter(lambda x: x > 20, map(lambda x: x * 2, numeros)))\n",
        "print(resultado)"
      ],
      "metadata": {
        "colab": {
          "base_uri": "https://localhost:8080/"
        },
        "id": "wgBz63wC4Aqz",
        "outputId": "95630362-749d-4afc-b075-02929cfcdfaf"
      },
      "execution_count": 19,
      "outputs": [
        {
          "output_type": "stream",
          "name": "stdout",
          "text": [
            "[24, 30, 40]\n"
          ]
        }
      ]
    },
    {
      "cell_type": "code",
      "source": [
        "#17\n",
        "\n",
        "palavras = [\"amigo\", \"escola\", \"carro\", \"elefante\", \"computador\", \"mesa\"]\n",
        "palavras_com_e = list(filter(lambda palavra: 'e' in palavra, palavras))\n",
        "quantidade = len(palavras_com_e)\n",
        "print(\"Palavras que contêm a letra 'e':\", palavras_com_e)\n",
        "print(\"Quantidade:\", quantidade)"
      ],
      "metadata": {
        "colab": {
          "base_uri": "https://localhost:8080/"
        },
        "id": "GZaV7vj44BFr",
        "outputId": "c83d96cc-0a31-4a6e-b330-9c26b56c3c30"
      },
      "execution_count": 20,
      "outputs": [
        {
          "output_type": "stream",
          "name": "stdout",
          "text": [
            "Palavras que contêm a letra 'e': ['escola', 'elefante', 'mesa']\n",
            "Quantidade: 3\n"
          ]
        }
      ]
    },
    {
      "cell_type": "code",
      "source": [
        "#18\n",
        "\n",
        "temperaturas_fahrenheit = [32, 50, 68, 77, 95, 104, 122]\n",
        "temperaturas_celsius = list(map(lambda f: (f - 32) * 5.0/9.0, temperaturas_fahrenheit))\n",
        "temperaturas_abaixo_20 = list(filter(lambda c: c < 20, temperaturas_celsius))\n",
        "print(\"Temperaturas em Celsius abaixo de 20°C:\", temperaturas_abaixo_20)"
      ],
      "metadata": {
        "colab": {
          "base_uri": "https://localhost:8080/"
        },
        "id": "Mh8u-bIQ4BgR",
        "outputId": "f4f7a24e-28d2-4dcd-b2b3-44004859dd9b"
      },
      "execution_count": 21,
      "outputs": [
        {
          "output_type": "stream",
          "name": "stdout",
          "text": [
            "Temperaturas em Celsius abaixo de 20°C: [0.0, 10.0]\n"
          ]
        }
      ]
    },
    {
      "cell_type": "code",
      "source": [
        "#19\n",
        "numeros = [1, 2, 3, 4, 5, 6, 7, 8, 9, 10]\n",
        "numeros_pares = list(filter(lambda x: x % 2 == 0, numeros))\n",
        "soma_pares = sum(numeros_pares)\n",
        "print(\"Números pares:\", numeros_pares)\n",
        "print(\"Soma dos números pares:\", soma_pares)"
      ],
      "metadata": {
        "colab": {
          "base_uri": "https://localhost:8080/"
        },
        "id": "S9XOsiXd4B21",
        "outputId": "b5e0827e-96f0-44cb-d1bd-cbe5d82fe779"
      },
      "execution_count": 22,
      "outputs": [
        {
          "output_type": "stream",
          "name": "stdout",
          "text": [
            "Números pares: [2, 4, 6, 8, 10]\n",
            "Soma dos números pares: 30\n"
          ]
        }
      ]
    },
    {
      "cell_type": "code",
      "source": [
        "#20\n",
        "numeros = [-5, 3, -2, 8, -1, 4]\n",
        "numeros_modificados = list(map(lambda x: x if x >= 0 else 0, numeros))\n",
        "print(\"Lista modificada:\", numeros_modificados)"
      ],
      "metadata": {
        "colab": {
          "base_uri": "https://localhost:8080/"
        },
        "id": "Fvz4PqXR4CQI",
        "outputId": "c3c3243c-e561-4bfd-b7a2-1376a3436eea"
      },
      "execution_count": 23,
      "outputs": [
        {
          "output_type": "stream",
          "name": "stdout",
          "text": [
            "Lista modificada: [0, 3, 0, 8, 0, 4]\n"
          ]
        }
      ]
    },
    {
      "cell_type": "code",
      "source": [
        "#21\n",
        "numeros = [1, 2, 3, 4, 5]\n",
        "cubos = list(map(lambda x: x**3, numeros))\n",
        "print(\"Cubos dos números:\", cubos)"
      ],
      "metadata": {
        "colab": {
          "base_uri": "https://localhost:8080/"
        },
        "id": "n8TZagjL65Pb",
        "outputId": "c9ab7833-7b67-4142-e09a-9ba665b044e7"
      },
      "execution_count": 24,
      "outputs": [
        {
          "output_type": "stream",
          "name": "stdout",
          "text": [
            "Cubos dos números: [1, 8, 27, 64, 125]\n"
          ]
        }
      ]
    },
    {
      "cell_type": "code",
      "source": [
        "#22\n",
        "is_prime = lambda x: x > 1 and all(x % i != 0 for i in range(2, int(x**0.5) + 1))\n",
        "print(is_prime(11))\n",
        "print(is_prime(4))\n",
        "print(is_prime(1))\n",
        "print(is_prime(13))"
      ],
      "metadata": {
        "colab": {
          "base_uri": "https://localhost:8080/"
        },
        "id": "kWX8ED6N65ic",
        "outputId": "a5fb8052-8efa-452c-ea7a-5c358f19e807"
      },
      "execution_count": 26,
      "outputs": [
        {
          "output_type": "stream",
          "name": "stdout",
          "text": [
            "True\n",
            "False\n",
            "False\n",
            "True\n"
          ]
        }
      ]
    },
    {
      "cell_type": "code",
      "source": [
        "#23\n",
        "numeros = [10, 20, 30, 40, 50]\n",
        "resultados = list(map(lambda x: x / 5, numeros))\n",
        "print(\"Resultado da divisão por 5:\", resultados)"
      ],
      "metadata": {
        "colab": {
          "base_uri": "https://localhost:8080/"
        },
        "id": "l6bXYM2_651Q",
        "outputId": "4c659753-1013-4924-c129-2a63ee59a1c0"
      },
      "execution_count": 27,
      "outputs": [
        {
          "output_type": "stream",
          "name": "stdout",
          "text": [
            "Resultado da divisão por 5: [2.0, 4.0, 6.0, 8.0, 10.0]\n"
          ]
        }
      ]
    },
    {
      "cell_type": "code",
      "source": [
        "#24\n",
        "texto = \"Exemplo de string com vogais\"\n",
        "resultado = ''.join(filter(lambda x: x.lower() not in 'aeiou', texto))\n",
        "print(\"Texto sem vogais:\", resultado)"
      ],
      "metadata": {
        "colab": {
          "base_uri": "https://localhost:8080/"
        },
        "id": "0nFFNfjs66G-",
        "outputId": "f1fe66f6-d1f9-456a-8cae-4a9ad616122a"
      },
      "execution_count": 28,
      "outputs": [
        {
          "output_type": "stream",
          "name": "stdout",
          "text": [
            "Texto sem vogais: xmpl d strng cm vgs\n"
          ]
        }
      ]
    },
    {
      "cell_type": "code",
      "source": [
        "#25\n",
        "palavras = [\"olá\", \"mundo\", \"como\", \"vai\"]\n",
        "palavras_maiusculas = list(map(lambda palavra: palavra.upper(), palavras))\n",
        "print(\"Palavras em maiúsculas:\", palavras_maiusculas)"
      ],
      "metadata": {
        "colab": {
          "base_uri": "https://localhost:8080/"
        },
        "id": "vdwsdUSz66XF",
        "outputId": "bd0b659c-58e6-4aa3-8281-ecef8724a8b5"
      },
      "execution_count": 29,
      "outputs": [
        {
          "output_type": "stream",
          "name": "stdout",
          "text": [
            "Palavras em maiúsculas: ['OLÁ', 'MUNDO', 'COMO', 'VAI']\n"
          ]
        }
      ]
    },
    {
      "cell_type": "code",
      "source": [
        "#26\n",
        "numeros = [10, -3, 5, -8, 2, -1]\n",
        "numeros_negativos = list(filter(lambda x: x < 0, numeros))\n",
        "print(\"Números negativos:\", numeros_negativos)"
      ],
      "metadata": {
        "colab": {
          "base_uri": "https://localhost:8080/"
        },
        "id": "bruwXJ-W66nY",
        "outputId": "cbe9ba04-314f-4259-834f-5583224fed4d"
      },
      "execution_count": 30,
      "outputs": [
        {
          "output_type": "stream",
          "name": "stdout",
          "text": [
            "Números negativos: [-3, -8, -1]\n"
          ]
        }
      ]
    },
    {
      "cell_type": "code",
      "source": [
        "#27\n",
        "numeros = [-10, 5, -3, 8, -2]\n",
        "valores_absolutos = list(map(lambda x: abs(x), numeros))\n",
        "print(\"Valores absolutos:\", valores_absolutos)"
      ],
      "metadata": {
        "colab": {
          "base_uri": "https://localhost:8080/"
        },
        "id": "WqQdSORb663f",
        "outputId": "25b61a04-6c87-4d7d-c8fb-c8e164b9517e"
      },
      "execution_count": 31,
      "outputs": [
        {
          "output_type": "stream",
          "name": "stdout",
          "text": [
            "Valores absolutos: [10, 5, 3, 8, 2]\n"
          ]
        }
      ]
    },
    {
      "cell_type": "code",
      "source": [
        "#28\n",
        "numeros = [-10, 5, -3, 8, -2]\n",
        "valores_absolutos = list(map(lambda x: abs(x), numeros))\n",
        "print(\"Valores absolutos:\", valores_absolutos)"
      ],
      "metadata": {
        "colab": {
          "base_uri": "https://localhost:8080/"
        },
        "id": "Bt6dR13567JF",
        "outputId": "0bdb0501-71ac-4809-c309-2b31657cda7a"
      },
      "execution_count": 32,
      "outputs": [
        {
          "output_type": "stream",
          "name": "stdout",
          "text": [
            "Valores absolutos: [10, 5, 3, 8, 2]\n"
          ]
        }
      ]
    },
    {
      "cell_type": "code",
      "source": [
        "#29\n",
        "numeros = [10, 20, 30, 40, 50]\n",
        "resultado = list(map(lambda x: x[1] * x[0], enumerate(numeros)))\n",
        "print(\"Resultado da multiplicação pelo índice:\", resultado)"
      ],
      "metadata": {
        "colab": {
          "base_uri": "https://localhost:8080/"
        },
        "id": "hiKwwFhk67fJ",
        "outputId": "db70d350-b3f3-4f04-c335-376b42049315"
      },
      "execution_count": 33,
      "outputs": [
        {
          "output_type": "stream",
          "name": "stdout",
          "text": [
            "Resultado da multiplicação pelo índice: [0, 20, 60, 120, 200]\n"
          ]
        }
      ]
    },
    {
      "cell_type": "code",
      "source": [
        "#30\n",
        "palindrome = lambda palavra: palavra == palavra[::-1]\n",
        "print(palindrome(\"arara\"))\n",
        "print(palindrome(\"python\"))\n",
        "print(palindrome(\"radar\"))"
      ],
      "metadata": {
        "colab": {
          "base_uri": "https://localhost:8080/"
        },
        "id": "JGQS8hXd67yh",
        "outputId": "991e872c-f440-4df4-82c6-d0d322b83265"
      },
      "execution_count": 37,
      "outputs": [
        {
          "output_type": "stream",
          "name": "stdout",
          "text": [
            "True\n",
            "False\n",
            "True\n"
          ]
        }
      ]
    }
  ]
}