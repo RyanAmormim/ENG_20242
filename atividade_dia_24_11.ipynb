{
  "nbformat": 4,
  "nbformat_minor": 0,
  "metadata": {
    "colab": {
      "provenance": [],
      "authorship_tag": "ABX9TyPSGICc/RNkqjvkXd2zoiSl",
      "include_colab_link": true
    },
    "kernelspec": {
      "name": "python3",
      "display_name": "Python 3"
    },
    "language_info": {
      "name": "python"
    }
  },
  "cells": [
    {
      "cell_type": "markdown",
      "metadata": {
        "id": "view-in-github",
        "colab_type": "text"
      },
      "source": [
        "<a href=\"https://colab.research.google.com/github/RyanAmormim/ENG_20242/blob/main/atividade_dia_24_11.ipynb\" target=\"_parent\"><img src=\"https://colab.research.google.com/assets/colab-badge.svg\" alt=\"Open In Colab\"/></a>"
      ]
    },
    {
      "cell_type": "code",
      "source": [
        "#1. Crie uma função que receba uma lista de números e retorne uma lista contendo apenas os números ímpares.\n",
        "\n",
        "lista = [1,2,3,4,5,6,7,8,9,10]\n",
        "def impares(lista):\n",
        "  return [x for x in lista if x % 2 == 1]\n",
        "print(impares(lista))\n",
        "\n",
        "\n",
        "#2. Escreva uma função que receba uma lista e retorne uma nova lista com o dobro de cada elemento.\n",
        "\n",
        "def dobro(lista):\n",
        "  return [x*2 for x in lista]\n",
        "print(dobro(lista))"
      ],
      "metadata": {
        "colab": {
          "base_uri": "https://localhost:8080/"
        },
        "id": "GBVYzTc-Lt0l",
        "outputId": "492df5b3-8745-4f12-9887-1f86caecbf62"
      },
      "execution_count": null,
      "outputs": [
        {
          "output_type": "stream",
          "name": "stdout",
          "text": [
            "[1, 3, 5, 7, 9]\n",
            "[2, 4, 6, 8, 10, 12, 14, 16, 18, 20]\n"
          ]
        }
      ]
    },
    {
      "cell_type": "code",
      "source": [
        "#3. Faça uma função que receba uma lista e retorne uma lista sem duplicatas.\n",
        "\n",
        "lista = [1,1,2,3,4,5,5,7,8,9]\n",
        "def sem_duplicadas(lista):\n",
        "  return sorted(set(lista))\n",
        "print(sem_duplicadas(lista))"
      ],
      "metadata": {
        "colab": {
          "base_uri": "https://localhost:8080/"
        },
        "id": "zSPgJditOzUH",
        "outputId": "518378b0-abbf-45c6-b512-c13be2018317"
      },
      "execution_count": 5,
      "outputs": [
        {
          "output_type": "stream",
          "name": "stdout",
          "text": [
            "[1, 2, 3, 4, 5, 7, 8, 9]\n"
          ]
        }
      ]
    },
    {
      "cell_type": "code",
      "source": [
        "#4. Crie uma função que receba uma lista e um valor divisor e retorne uma lista dos elementos que são divisíveis pelo divisor.\n",
        "\n",
        "def divisor(lista):\n",
        "  return [x for x in lista if x % 2 == 0]\n",
        "print(divisor(lista))"
      ],
      "metadata": {
        "colab": {
          "base_uri": "https://localhost:8080/"
        },
        "id": "19JOSZUipo_I",
        "outputId": "182614d8-c894-4b5f-fdc7-84d32c809049"
      },
      "execution_count": 12,
      "outputs": [
        {
          "output_type": "stream",
          "name": "stdout",
          "text": [
            "[2, 4, 8]\n"
          ]
        }
      ]
    },
    {
      "cell_type": "code",
      "source": [
        "#5. Escreva uma função que receba duas listas e retorne um conjunto com os elementos que aparecem em ambas.\n",
        "\n",
        "lista1 = [1,2,3,4,5]\n",
        "lista2 = [6,7,8,9,10]\n",
        "def juncao(lista):\n",
        "  return lista1 + lista2\n",
        "print(juncao(lista))"
      ],
      "metadata": {
        "colab": {
          "base_uri": "https://localhost:8080/"
        },
        "id": "8a8IW_tiqU4I",
        "outputId": "bcf558e6-22d8-4815-c553-8ee76564bdfb"
      },
      "execution_count": 16,
      "outputs": [
        {
          "output_type": "stream",
          "name": "stdout",
          "text": [
            "[1, 2, 3, 4, 5, 6, 7, 8, 9, 10]\n"
          ]
        }
      ]
    },
    {
      "cell_type": "code",
      "source": [
        "#6. Crie uma função que receba uma lista e retorne uma nova lista com os elementos em ordem inversa.\n",
        "\n",
        "def inverter(lista):\n",
        "  return sorted(lista, reverse=True)\n",
        "print(inverter(lista))"
      ],
      "metadata": {
        "colab": {
          "base_uri": "https://localhost:8080/"
        },
        "id": "-LEuCHzHqxKA",
        "outputId": "d75aaa60-de84-44fc-ce42-d73c602f26c2"
      },
      "execution_count": 21,
      "outputs": [
        {
          "output_type": "stream",
          "name": "stdout",
          "text": [
            "[9, 8, 7, 5, 5, 4, 3, 2, 1, 1]\n"
          ]
        }
      ]
    },
    {
      "cell_type": "code",
      "source": [
        "#7. Escreva uma função que receba uma lista de números e retorne uma lista contendo o quadrado de cada número.\n",
        "lista = [1,2,3,4,5]\n",
        "def quadrado(lista):\n",
        "  return [x**2 for x in lista]\n",
        "print(quadrado(lista))"
      ],
      "metadata": {
        "colab": {
          "base_uri": "https://localhost:8080/"
        },
        "id": "vJ6EQniorUm5",
        "outputId": "984f7a81-daba-4221-fac3-02844ac9e58c"
      },
      "execution_count": 24,
      "outputs": [
        {
          "output_type": "stream",
          "name": "stdout",
          "text": [
            "[1, 4, 9, 16, 25]\n"
          ]
        }
      ]
    },
    {
      "cell_type": "code",
      "source": [
        "#8. Crie uma função que receba uma lista e um valor, e retorne uma lista com os elementos maiores que esse valor.\n",
        "\n",
        "lista = {'Arroz': 27.5, 'Feijao': 7.99, 'Macarrao': 5.98, 'Carne': 89.99, 'Leite': 7.00}\n",
        "def maior(lista, valor):\n",
        "  return [chave for chave, val in lista.items() if val > valor]\n",
        "print(maior(lista, 25))"
      ],
      "metadata": {
        "colab": {
          "base_uri": "https://localhost:8080/"
        },
        "id": "H_PJQJiUry_A",
        "outputId": "83adf76f-d926-4578-e607-67eb8dc2055f"
      },
      "execution_count": 35,
      "outputs": [
        {
          "output_type": "stream",
          "name": "stdout",
          "text": [
            "['Arroz', 'Carne']\n"
          ]
        }
      ]
    },
    {
      "cell_type": "code",
      "source": [
        "#9. Escreva uma função que receba duas listas e retorne uma lista dos elementos que estão em apenas uma das listas.\n",
        "lista1 = [1,3,4,5,9]\n",
        "lista2 = [1,2,3,6,7]\n",
        "def uma(lista1, lista2):\n",
        "  return list(set(lista1) ^ set(lista2))\n",
        "print(uma(lista1, lista2))"
      ],
      "metadata": {
        "colab": {
          "base_uri": "https://localhost:8080/"
        },
        "id": "kncEknN5tR-_",
        "outputId": "cdf050d1-f8ac-4a45-c79d-15ccbf987af4"
      },
      "execution_count": 40,
      "outputs": [
        {
          "output_type": "stream",
          "name": "stdout",
          "text": [
            "[2, 4, 5, 6, 7, 9]\n"
          ]
        }
      ]
    },
    {
      "cell_type": "code",
      "source": [
        "#10. Faça uma função que receba uma lista e retorne um conjunto dos elementos únicos.\n",
        "lista = [1,2,3,3,4,5,6,6,7]\n",
        "def unicos(lista):\n",
        "  return set(sorted(lista))\n",
        "print(unicos(lista))"
      ],
      "metadata": {
        "colab": {
          "base_uri": "https://localhost:8080/"
        },
        "id": "KtkxG6z4uOoH",
        "outputId": "7499228f-ed61-45e7-b95f-97ffe977202f"
      },
      "execution_count": 43,
      "outputs": [
        {
          "output_type": "stream",
          "name": "stdout",
          "text": [
            "{1, 2, 3, 4, 5, 6, 7}\n"
          ]
        }
      ]
    },
    {
      "cell_type": "code",
      "source": [
        "#11. Crie uma função que receba duas listas e retorne uma lista dos elementos únicos que estão em ambas.\n",
        "listaA = [1, 2, 3, 4, 5]\n",
        "listaB = [3, 4, 5, 6, 7]\n",
        "def elementos_unicos_comuns(listaA, listaB):\n",
        "  return list(set(listaA) & set(listaB))\n",
        "print(elementos_unicos_comuns(listaA, listaB))"
      ],
      "metadata": {
        "colab": {
          "base_uri": "https://localhost:8080/"
        },
        "id": "WwWcakM_xZTW",
        "outputId": "0565e05f-f473-4784-d11d-89e7edfcf5cb"
      },
      "execution_count": 52,
      "outputs": [
        {
          "output_type": "stream",
          "name": "stdout",
          "text": [
            "[3, 4, 5]\n"
          ]
        }
      ]
    },
    {
      "cell_type": "code",
      "source": [
        "#12. Escreva uma função que receba uma lista e retorne uma lista contendo os elementos que aparecem mais de uma vez.\n",
        "\n",
        "lista = [1,1,2,3,4,5,5,6,6,6,7,8,9]\n",
        "def elementos_repetidos(lista):\n",
        "    # Initialize elementos_contados and repetidos inside the function\n",
        "    elementos_contados = {} # This dictionary will store the count of each element\n",
        "    repetidos = [] # This list will store elements appearing more than once\n",
        "\n",
        "    for elemento in lista:\n",
        "        if elemento in elementos_contados:\n",
        "            elementos_contados[elemento] += 1\n",
        "        else:\n",
        "            elementos_contados[elemento] = 1\n",
        "\n",
        "    for elemento, contagem in elementos_contados.items():\n",
        "        if contagem > 1:\n",
        "            repetidos.append(elemento)\n",
        "\n",
        "    return repetidos\n",
        "print(elementos_repetidos(lista))"
      ],
      "metadata": {
        "colab": {
          "base_uri": "https://localhost:8080/"
        },
        "id": "-SOoYJdUy32d",
        "outputId": "ba980c25-5a7d-4cd9-b86e-92719be55655"
      },
      "execution_count": 59,
      "outputs": [
        {
          "output_type": "stream",
          "name": "stdout",
          "text": [
            "[1, 5, 6]\n"
          ]
        }
      ]
    },
    {
      "cell_type": "code",
      "source": [
        "#13. Faça uma função que receba uma lista de números e retorne uma lista dos números pares.\n",
        "\n",
        "def numeros_pares(lista):\n",
        "  return [numero for numero in lista if numero % 2 == 0]\n",
        "print(numeros_pares(lista))"
      ],
      "metadata": {
        "colab": {
          "base_uri": "https://localhost:8080/"
        },
        "id": "b2E_1EtbRv9a",
        "outputId": "4dd1bded-00d1-46a9-a152-6a5efdf6ab61"
      },
      "execution_count": 61,
      "outputs": [
        {
          "output_type": "stream",
          "name": "stdout",
          "text": [
            "[2, 4, 6, 6, 6, 8]\n"
          ]
        }
      ]
    },
    {
      "cell_type": "code",
      "source": [
        "#14. Escreva uma função que receba uma lista de números e um valor, e retorne uma lista com os índices dos elementos maiores que o valor.\n",
        "\n",
        "def indices_maiores(lista, valor):\n",
        "  return [indice for indice, elemento in enumerate(lista) if elemento > valor]\n",
        "print(indices_maiores(lista, 5))"
      ],
      "metadata": {
        "colab": {
          "base_uri": "https://localhost:8080/"
        },
        "id": "7Gw2u0U-SEF5",
        "outputId": "0b658ea4-c1cf-491a-abd1-6c0cbf095322"
      },
      "execution_count": 66,
      "outputs": [
        {
          "output_type": "stream",
          "name": "stdout",
          "text": [
            "[7, 8, 9, 10, 11, 12]\n"
          ]
        }
      ]
    },
    {
      "cell_type": "code",
      "source": [
        "#15. Crie uma função que receba uma lista de strings e retorne uma lista com o tamanho de cada string.\n",
        "\n",
        "lista = ['Flamengo', 'Atletico Mineiro', 'Barcelona', 'Tottenham', 'Borussia Dortmound']\n",
        "def tamanhos(lista):\n",
        "  return [len(string) for string in lista]\n",
        "print(tamanhos(lista))"
      ],
      "metadata": {
        "colab": {
          "base_uri": "https://localhost:8080/"
        },
        "id": "2EgYdMPGTWTb",
        "outputId": "2cde1162-9141-41e3-e327-88235af8e1fc"
      },
      "execution_count": 68,
      "outputs": [
        {
          "output_type": "stream",
          "name": "stdout",
          "text": [
            "[8, 16, 9, 9, 18]\n"
          ]
        }
      ]
    },
    {
      "cell_type": "code",
      "source": [
        "#16. Escreva uma função que receba uma lista de números e retorne uma lista contendo cada número elevado ao cubo.\n",
        "\n",
        "listaA = [1, 2, 3, 4, 5]\n",
        "def cubo(lista):\n",
        " return [x**3 for x in lista]\n",
        "print(cubo(listaA))"
      ],
      "metadata": {
        "colab": {
          "base_uri": "https://localhost:8080/"
        },
        "id": "1-gPMYssT80y",
        "outputId": "b442d549-357a-41dd-ca45-bd9ee04708dc"
      },
      "execution_count": 71,
      "outputs": [
        {
          "output_type": "stream",
          "name": "stdout",
          "text": [
            "[1, 8, 27, 64, 125]\n"
          ]
        }
      ]
    },
    {
      "cell_type": "code",
      "source": [
        "#17. Crie uma função que receba uma lista e retorne uma lista de todos os elementos únicos.\n",
        "\n",
        "lista = [1, 2, 2, 3, 4, 5, 3, 6, 4]\n",
        "def elementos_unicos(lista):\n",
        "  return list(set(lista))\n",
        "print(elementos_unicos(lista))"
      ],
      "metadata": {
        "colab": {
          "base_uri": "https://localhost:8080/"
        },
        "id": "8m4leC5sUu_z",
        "outputId": "c43ac436-387c-4ce4-e368-c079fbbdfeb7"
      },
      "execution_count": 72,
      "outputs": [
        {
          "output_type": "stream",
          "name": "stdout",
          "text": [
            "[1, 2, 3, 4, 5, 6]\n"
          ]
        }
      ]
    },
    {
      "cell_type": "code",
      "source": [
        "#18. Escreva uma função que receba uma lista de strings e retorne uma lista contendo as strings que começam com uma letra maiúscula.\n",
        "\n",
        "lista = ['Flamengo', 'atletico Mineiro', 'Barcelona', 'tottenham', 'Borussia Dortmound']\n",
        "def maiuscula(lista):\n",
        "  return [x for x in lista if x[0].isupper()]\n",
        "print(maiuscula(lista))"
      ],
      "metadata": {
        "colab": {
          "base_uri": "https://localhost:8080/"
        },
        "id": "7Lr9DbhxVIVp",
        "outputId": "bbfd74b7-c4bc-4e12-ff5b-3867606a465e"
      },
      "execution_count": 75,
      "outputs": [
        {
          "output_type": "stream",
          "name": "stdout",
          "text": [
            "['Flamengo', 'Barcelona', 'Borussia Dortmound']\n"
          ]
        }
      ]
    },
    {
      "cell_type": "code",
      "source": [
        "#19. Faça uma função que receba uma lista de números e retorne uma lista contendo apenas os múltiplos de 3.\n",
        "\n",
        "lista = [30,55,69,72,100,120]\n",
        "def multiplos(lista):\n",
        "  return [numero for numero in lista if numero % 3 == 0]\n",
        "print(multiplos(lista))"
      ],
      "metadata": {
        "colab": {
          "base_uri": "https://localhost:8080/"
        },
        "id": "jP5ChMJqWMI7",
        "outputId": "fd043c08-22f1-4b52-fba4-53dfdbec5520"
      },
      "execution_count": 76,
      "outputs": [
        {
          "output_type": "stream",
          "name": "stdout",
          "text": [
            "[30, 69, 72, 120]\n"
          ]
        }
      ]
    },
    {
      "cell_type": "code",
      "source": [
        "#20. Escreva uma função que receba duas listas e retorne uma lista com a interseção ordenada de forma crescente entre elas.\n",
        "\n",
        "listaA = [1, 3, 5, 7, 9]\n",
        "listaB = [3, 4, 5, 6, 7]\n",
        "def intersecao(listaA, listaB):\n",
        "  setA = set(listaA)\n",
        "  setB = set(listaB)\n",
        "  return sorted(list(setA.intersection(setB)))\n",
        "print(intersecao(listaA, listaB))"
      ],
      "metadata": {
        "colab": {
          "base_uri": "https://localhost:8080/"
        },
        "id": "b7Xzvg2JWlwB",
        "outputId": "b0ac52d7-8459-43aa-a9b2-19f96721d44a"
      },
      "execution_count": 86,
      "outputs": [
        {
          "output_type": "stream",
          "name": "stdout",
          "text": [
            "[3, 5, 7]\n"
          ]
        }
      ]
    }
  ]
}